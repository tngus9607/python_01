{
 "cells": [
  {
   "cell_type": "code",
   "execution_count": 1,
   "metadata": {},
   "outputs": [
    {
     "name": "stdout",
     "output_type": "stream",
     "text": [
      "A영재고\n"
     ]
    }
   ],
   "source": [
    "#김김\n",
    "\n",
    "국어 = 95\n",
    "수학 = 92\n",
    "영어 = 93\n",
    "\n",
    "if 국어>=90 and 수학>=90 and 영어>=90:\n",
    "    print(\"A영재고\")\n",
    "elif 수학>=90 or 수학+영어>=170:\n",
    "    print(\"B과학고\")\n",
    "elif 영어>=90 or 국어+영어>=170:\n",
    "    print(\"C외고\")\n",
    "elif 국어>=75 or 수학>=75 or 영어>=75:\n",
    "    print(\"D고\")\n",
    "else:\n",
    "    print(\"검정고시\")"
   ]
  },
  {
   "cell_type": "code",
   "execution_count": 2,
   "metadata": {},
   "outputs": [
    {
     "name": "stdout",
     "output_type": "stream",
     "text": [
      "C외고\n"
     ]
    }
   ],
   "source": [
    "#이이\n",
    "\n",
    "국어 = 82\n",
    "수학 = 23\n",
    "영어 = 88\n",
    "\n",
    "if 국어>=90 and 수학>=90 and 영어>=90:\n",
    "    print(\"A영재고\")\n",
    "elif 수학>=90 or 수학+영어>=170:\n",
    "    print(\"B과학고\")\n",
    "elif 영어>=90 or 국어+영어>=170:\n",
    "    print(\"C외고\")\n",
    "elif 국어>=75 or 수학>=75 or 영어>=75:\n",
    "    print(\"D고\")\n",
    "else:\n",
    "    print(\"검정고시\")"
   ]
  },
  {
   "cell_type": "code",
   "execution_count": 3,
   "metadata": {},
   "outputs": [
    {
     "name": "stdout",
     "output_type": "stream",
     "text": [
      "검정고시\n"
     ]
    }
   ],
   "source": [
    "#박박\n",
    "\n",
    "국어 = 20\n",
    "수학 = 49\n",
    "영어 = 65\n",
    "\n",
    "if 국어>=90 and 수학>=90 and 영어>=90:\n",
    "    print(\"A영재고\")\n",
    "elif 수학>=90 or 수학+영어>=170:\n",
    "    print(\"B과학고\")\n",
    "elif 영어>=90 or 국어+영어>=170:\n",
    "    print(\"C외고\")\n",
    "elif 국어>=75 or 수학>=75 or 영어>=75:\n",
    "    print(\"D고\")\n",
    "else:\n",
    "    print(\"검정고시\")"
   ]
  },
  {
   "cell_type": "code",
   "execution_count": 5,
   "metadata": {},
   "outputs": [
    {
     "name": "stdout",
     "output_type": "stream",
     "text": [
      "축하합니다. 2번째 학생은 서울대입구역에 집을 구할 수 있습니다.\n",
      "축하합니다. 4번째 학생은 서울대입구역에 집을 구할 수 있습니다.\n",
      "축하합니다. 6번째 학생은 서울대입구역에 집을 구할 수 있습니다.\n",
      "축하합니다. 8번째 학생은 서울대입구역에 집을 구할 수 있습니다.\n"
     ]
    }
   ],
   "source": [
    "#for\n",
    "용돈 = [10, 1200, 35, 100, 72, 140, 6, 93]\n",
    "\n",
    "number = 0\n",
    "for money in 용돈:\n",
    "    number = number+1\n",
    "    if money<=80:\n",
    "        continue\n",
    "    print(\"축하합니다. %d번째 학생은 서울대입구역에 집을 구할 수 있습니다.\" % number)"
   ]
  },
  {
   "cell_type": "code",
   "execution_count": 6,
   "metadata": {},
   "outputs": [
    {
     "name": "stdout",
     "output_type": "stream",
     "text": [
      "*\n",
      "**\n",
      "***\n",
      "****\n",
      "*****\n",
      "******\n",
      "*******\n",
      "********\n",
      "*********\n",
      "**********\n"
     ]
    }
   ],
   "source": [
    "#while\n",
    "\n",
    "star = \"\"\n",
    "star1 = \"*\"\n",
    "while True:\n",
    "    star = star+star1\n",
    "    print(star)\n",
    "    if len(star)>9:\n",
    "        break"
   ]
  },
  {
   "cell_type": "code",
   "execution_count": 7,
   "metadata": {},
   "outputs": [
    {
     "name": "stdout",
     "output_type": "stream",
     "text": [
      "김씨 할아버지는 10대에는 학생이셨다고 한다.\n",
      "김씨 할아버지는 20대에는 폭주족이셨다고 한다.\n",
      "김씨 할아버지는 30대에는 회사원이셨다고 한다.\n",
      "김씨 할아버지는 40대에는 군인이셨다고 한다.\n",
      "김씨 할아버지는 50대에는 대통령이셨다고 한다.\n",
      "김씨 할아버지는 60대에는 경찰이셨다고 한다.\n"
     ]
    }
   ],
   "source": [
    "#for?\n",
    "\n",
    "job = ['학생', '폭주족', '회사원', '군인', '대통령', '경찰']\n",
    "\n",
    "for i in range(len(job)):\n",
    "    kim = job[i]\n",
    "    print(\"김씨 할아버지는 {}대에는 {}이셨다고 한다.\".format((i+1)*10, job[i]))"
   ]
  },
  {
   "cell_type": "code",
   "execution_count": null,
   "metadata": {},
   "outputs": [],
   "source": []
  }
 ],
 "metadata": {
  "kernelspec": {
   "display_name": "Python 3",
   "language": "python",
   "name": "python3"
  },
  "language_info": {
   "codemirror_mode": {
    "name": "ipython",
    "version": 3
   },
   "file_extension": ".py",
   "mimetype": "text/x-python",
   "name": "python",
   "nbconvert_exporter": "python",
   "pygments_lexer": "ipython3",
   "version": "3.7.3"
  }
 },
 "nbformat": 4,
 "nbformat_minor": 2
}
