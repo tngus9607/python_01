{
 "cells": [
  {
   "cell_type": "markdown",
   "metadata": {},
   "source": [
    "# Module "
   ]
  },
  {
   "cell_type": "markdown",
   "metadata": {},
   "source": [
    "## shyoon"
   ]
  },
  {
   "cell_type": "markdown",
   "metadata": {},
   "source": [
    "함수나 변수 또는 클래스를 모아 놓은 파일 \n",
    "- 다른 파이썬 프로그램에서 불러와 사용할 수 있게끔 만든 파이썬 파일\n",
    "- 다른 사람들이 이미 만든 모듈 사용 / 직접 만들어 사용 가능"
   ]
  },
  {
   "cell_type": "markdown",
   "metadata": {},
   "source": [
    "#### plus info."
   ]
  },
  {
   "cell_type": "code",
   "execution_count": null,
   "metadata": {},
   "outputs": [],
   "source": [
    "효율성: 매우 복잡하고 긴 코드를 작성할 때, 사용 용도에 따라 파일로 구분 뒤, \n",
    "    다른 파일에서 해당 클래스나 함수가 필요할 때 가져와서 사용할 수 있게 해줌\n",
    "    - 위에서 얘기한 타인이 만들어 놓은 코드 활용 (2번째 이유)\n",
    "    \n",
    "모듈 = 프로그램의 꾸러미 \n"
   ]
  },
  {
   "cell_type": "markdown",
   "metadata": {},
   "source": [
    "### 모듈 만들기"
   ]
  },
  {
   "cell_type": "markdown",
   "metadata": {},
   "source": [
    ".py = all module"
   ]
  },
  {
   "cell_type": "code",
   "execution_count": null,
   "metadata": {},
   "outputs": [],
   "source": [
    "#mod1.py\n",
    "def add(a,b):\n",
    "    return a + b\n",
    "\n",
    "def sub(a,b):\n",
    "    return a - b"
   ]
  },
  {
   "cell_type": "code",
   "execution_count": null,
   "metadata": {},
   "outputs": [],
   "source": [
    "&&& 디렉토리에 저장...? \n",
    "- 윈도우는 아나콘다를 통해서? / 아니면 command? "
   ]
  }
 ],
 "metadata": {
  "kernelspec": {
   "display_name": "Python 3",
   "language": "python",
   "name": "python3"
  },
  "language_info": {
   "codemirror_mode": {
    "name": "ipython",
    "version": 3
   },
   "file_extension": ".py",
   "mimetype": "text/x-python",
   "name": "python",
   "nbconvert_exporter": "python",
   "pygments_lexer": "ipython3",
   "version": "3.7.3"
  }
 },
 "nbformat": 4,
 "nbformat_minor": 2
}
