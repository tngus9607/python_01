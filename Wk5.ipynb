{
 "cells": [
  {
   "cell_type": "markdown",
   "metadata": {},
   "source": [
    "# Flow Control: Operators If, for, while loop"
   ]
  },
  {
   "cell_type": "markdown",
   "metadata": {},
   "source": [
    "## shyoon"
   ]
  },
  {
   "cell_type": "markdown",
   "metadata": {},
   "source": [
    "### 조건문: 참과 거짓을 판단하는 문장"
   ]
  },
  {
   "cell_type": "markdown",
   "metadata": {},
   "source": [
    "- 비교연산자 = Comparison Operators \n",
    "    - x < y  : x가 y보다 작다\n",
    "    - x > y  : x가 y보다 크다\n",
    "    - x == y : x와 y가 같다\n",
    "    - x != y : x와 y가 같지 않다\n",
    "    - x >= y : x가 y보다 크거나 같다\n",
    "    - x <= y : x가 y보다 작거나 같다"
   ]
  },
  {
   "cell_type": "markdown",
   "metadata": {},
   "source": [
    "- 논리연산자 = Logical Operators \n",
    "    - x or y  : x와 y 둘 중 하나만 참이면 참이다\n",
    "    - x and y : x와 y 모두 참이어야 참이다\n",
    "    - not x   : x가 거짓이면 참이다"
   ]
  },
  {
   "cell_type": "markdown",
   "metadata": {},
   "source": [
    "### If"
   ]
  },
  {
   "cell_type": "markdown",
   "metadata": {},
   "source": [
    "If 조건문: (원하는 조건을 넣음)\n",
    "   \n",
    "   수행할 문장 1 = execution\n",
    "    \n",
    "    수행할 문장 2\n",
    "    ...\n",
    "\n",
    "else: (항상 if의 반대기 때문에 \n",
    "   \n",
    "   수행할 문장 A\n",
    "    \n",
    "    수행할 문장 B\n",
    "    ...\n",
    "\n",
    "\n",
    "- if가 참이면 if 다음 문장을 수행\n",
    "- if가 거짓이면 else 다음 문장을 수행 - else는 if문 없이 사용 불가능"
   ]
  },
  {
   "cell_type": "markdown",
   "metadata": {},
   "source": [
    "#### 들여쓰기 = indentation"
   ]
  },
  {
   "cell_type": "markdown",
   "metadata": {},
   "source": [
    "__spacebar 4__ 번을 권장하여 들여쓰기 수행\n",
    "also don't forget :"
   ]
  },
  {
   "cell_type": "markdown",
   "metadata": {},
   "source": [
    "#### elif "
   ]
  },
  {
   "cell_type": "markdown",
   "metadata": {},
   "source": [
    "이전 조건문이 거짓일 때 수행됨\n",
    "    - 갯수에 제한 없이 사용될 수 있음"
   ]
  },
  {
   "cell_type": "code",
   "execution_count": 2,
   "metadata": {},
   "outputs": [
    {
     "name": "stdout",
     "output_type": "stream",
     "text": [
      "you are rich\n"
     ]
    }
   ],
   "source": [
    "money = 2000\n",
    "if money >= 1000:\n",
    "    print(\"you are rich\")\n",
    "else:\n",
    "    print(\"you are poor\")"
   ]
  },
  {
   "cell_type": "code",
   "execution_count": 3,
   "metadata": {},
   "outputs": [
    {
     "name": "stdout",
     "output_type": "stream",
     "text": [
      "you have 2000 won\n"
     ]
    }
   ],
   "source": [
    "money = 2000\n",
    "if money > 2000:\n",
    "    print(\"you are rich\")\n",
    "elif money == 2000:\n",
    "    print(\"you have 2000 won\")\n",
    "elif money == 1900:\n",
    "    print(\"wow, you just need 100 won more\")\n",
    "else:\n",
    "    print(\"you are poor\")"
   ]
  },
  {
   "cell_type": "markdown",
   "metadata": {},
   "source": [
    "- 아무 일도 하지 않게 설정하고 싶다면"
   ]
  },
  {
   "cell_type": "code",
   "execution_count": 7,
   "metadata": {},
   "outputs": [],
   "source": [
    "pocket = ['paper', 'money', 'cellphone']\n",
    "if 'money' in pocket: \n",
    "    pass\n",
    "else: \n",
    "    print(\"get off the taxi\")"
   ]
  },
  {
   "cell_type": "markdown",
   "metadata": {},
   "source": [
    "#### x in s, x not in s"
   ]
  },
  {
   "cell_type": "markdown",
   "metadata": {},
   "source": [
    "x in s: 요소 x가 리스트, 튜플, 문자열 s에 있을 때 True\n",
    "x not in s: 요소 x가 리스트, 튜플, 문자열 s에 없을 때 True\n",
    "    \n",
    "- in = ~ 안에"
   ]
  },
  {
   "cell_type": "code",
   "execution_count": 6,
   "metadata": {},
   "outputs": [
    {
     "name": "stdout",
     "output_type": "stream",
     "text": [
      "True\n",
      "True\n",
      "False\n"
     ]
    }
   ],
   "source": [
    "a = [1, 3, 4]\n",
    "b = (1, 3, 4)\n",
    "c = \"134\"\n",
    "\n",
    "print(1 in a)\n",
    "print(3 in b)\n",
    "print(\"5\" in c)"
   ]
  },
  {
   "cell_type": "markdown",
   "metadata": {},
   "source": [
    "### WHILE_반복문"
   ]
  },
  {
   "cell_type": "markdown",
   "metadata": {},
   "source": [
    "반복해서 문장을 수행할 경우 \n",
    "- 조건문이 참인동안, while문 아래의 문장이 반복해서 수행 \n",
    "- 조건문이 거짓이되면, 시행이 끝"
   ]
  },
  {
   "cell_type": "markdown",
   "metadata": {},
   "source": [
    "기본 구조: \n",
    "while <조건문>:\n",
    "\n",
    "    <수행할 문장1>\n",
    "    <수행할 문장2>\n",
    "    <수행할 문장3>\n",
    "    ..."
   ]
  },
  {
   "cell_type": "code",
   "execution_count": null,
   "metadata": {},
   "outputs": [],
   "source": [
    "i = 10\n",
    "while i > 0: \n",
    "    print('there is %s remaining bombs.' % i)\n",
    "    i -= 1 #i = i -1\n",
    "    if i ==0:\n",
    "        print('success')"
   ]
  },
  {
   "cell_type": "markdown",
   "metadata": {},
   "source": [
    "- treeHit = treeHit + 1은 프로그래밍을 할 때 매우 자주 사용하는 기법\n",
    "    - treeHit 값을 1만큼씩 증가시킬 목적으로 사용하며, treeHit += 1 처럼 사용하기도 한다."
   ]
  },
  {
   "cell_type": "markdown",
   "metadata": {},
   "source": [
    "여러 가지 선택지 중 하나를 선택해서 입력받는 예제??? "
   ]
  },
  {
   "cell_type": "markdown",
   "metadata": {},
   "source": [
    "#### 강제로 빠져나가기 = break문"
   ]
  },
  {
   "cell_type": "markdown",
   "metadata": {},
   "source": [
    "while문의 조건문이 참일 때도, 빠져나가게 함"
   ]
  },
  {
   "cell_type": "code",
   "execution_count": 12,
   "metadata": {},
   "outputs": [
    {
     "name": "stdout",
     "output_type": "stream",
     "text": [
      "I can still play game-1, I can get it.\n",
      "I can still play game-1, I can get it.\n",
      "I can still play game-1, I can get it.\n",
      "I can still play game-1, I can get it.\n",
      "I can still play game-1, I can get it.\n",
      "I can still play game-1, I can get it.\n",
      "I can still play game-1, I can get it.\n",
      "I can still play game-1, I can get it.\n",
      "I can still play game-1, I can get it.\n",
      "I can still play game-1, I can get it.\n",
      "no, it's over.\n"
     ]
    }
   ],
   "source": [
    "game = 10\n",
    "money = 5000\n",
    "\n",
    "while True:\n",
    "    print('I can still play game-1, I can get it.')\n",
    "    game -= 1\n",
    "    if game == 0:\n",
    "        print('no, it\\'s over.')\n",
    "        break"
   ]
  },
  {
   "cell_type": "code",
   "execution_count": 13,
   "metadata": {},
   "outputs": [
    {
     "name": "stdout",
     "output_type": "stream",
     "text": [
      "You have only 9 you are still fine.\n",
      "You have only 8 consider other options\n",
      "You have only 7 consider other options\n",
      "You have only 6 consider other options\n",
      "You have only 5 consider other options\n",
      "You have only 4 you should run away.\n",
      "You have only 3 you should run away.\n",
      "let's come back when you get more power.\n",
      "let's come back when you get more power.\n",
      "let's come back when you get more power.\n",
      "game over\n"
     ]
    }
   ],
   "source": [
    "# life.py\n",
    "life = 10\n",
    "while True:\n",
    "    life = life - 1\n",
    "    if life > 8:\n",
    "        print('You have only', life, 'you are still fine.')\n",
    "    elif life > 4:\n",
    "        print('You have only', life, 'consider other options')\n",
    "    elif life > 2:\n",
    "        print('You have only', life, 'you should run away.')\n",
    "    else:\n",
    "        print('let\\'s come back when you get more power.')\n",
    "        if life == 0:\n",
    "            print('game over')\n",
    "            break"
   ]
  },
  {
   "cell_type": "markdown",
   "metadata": {},
   "source": [
    "- command에서 실행 \n",
    "    - C:\\doit>python life.py"
   ]
  },
  {
   "cell_type": "markdown",
   "metadata": {},
   "source": [
    "#### 맨 처음으로 돌아가기 = continue"
   ]
  },
  {
   "cell_type": "markdown",
   "metadata": {},
   "source": [
    "while문을 빠져나가지 않고 맨 처음으로 돌아감 "
   ]
  },
  {
   "cell_type": "code",
   "execution_count": 11,
   "metadata": {},
   "outputs": [
    {
     "name": "stdout",
     "output_type": "stream",
     "text": [
      "1 3 5 7 9 "
     ]
    }
   ],
   "source": [
    "number = 0\n",
    "while number < 10:\n",
    "    number = number+1\n",
    "    if number%2 == 0: continue #나머지가 0 (홀수) & 나머지가 1 (짝수)\n",
    "    print(number, end=' ') #end는 왜 쓰였을까"
   ]
  },
  {
   "cell_type": "code",
   "execution_count": 21,
   "metadata": {},
   "outputs": [
    {
     "ename": "SyntaxError",
     "evalue": "invalid syntax (<ipython-input-21-8e171f02dcac>, line 4)",
     "output_type": "error",
     "traceback": [
      "\u001b[1;36m  File \u001b[1;32m\"<ipython-input-21-8e171f02dcac>\"\u001b[1;36m, line \u001b[1;32m4\u001b[0m\n\u001b[1;33m    if number%2 == 0\u001b[0m\n\u001b[1;37m                    ^\u001b[0m\n\u001b[1;31mSyntaxError\u001b[0m\u001b[1;31m:\u001b[0m invalid syntax\n"
     ]
    }
   ],
   "source": [
    "number = 0\n",
    "while number < 10:\n",
    "    number = number + 1\n",
    "    if number%2 == 0\n",
    "        print"
   ]
  },
  {
   "cell_type": "markdown",
   "metadata": {},
   "source": [
    "#### 무한 루프 = loop"
   ]
  },
  {
   "cell_type": "markdown",
   "metadata": {},
   "source": [
    "무한히 반복한다는 의미 = very 자주 사용"
   ]
  },
  {
   "cell_type": "markdown",
   "metadata": {},
   "source": [
    "- 기본 구조\n",
    "\n",
    "while True:\n",
    "\n",
    "    수행할 문장1 \n",
    "    수행할 문장2\n",
    "    ..."
   ]
  },
  {
   "cell_type": "code",
   "execution_count": null,
   "metadata": {},
   "outputs": [],
   "source": [
    "#while Ture: \n",
    "    #print('I am happy')\n",
    "    \n",
    "#then, 'I am happy'를 무한으로 보게 됨"
   ]
  },
  {
   "cell_type": "markdown",
   "metadata": {},
   "source": [
    "### FOR "
   ]
  },
  {
   "cell_type": "markdown",
   "metadata": {},
   "source": [
    "파이썬의 직관적인 특징을 잘 대변 \n",
    "- while문과 비슷한 반복문 = 문장 구조가 잘 들어옴\n",
    "    - 범위 지정가능 \n",
    "   "
   ]
  },
  {
   "cell_type": "markdown",
   "metadata": {},
   "source": [
    "- 기본 구조\n",
    "\n",
    "for 변수 in 리스트(또는 튜플, 문자열):\n",
    "    \n",
    "    수행할 문장1\n",
    "    수행할 문장2\n",
    "    ..."
   ]
  },
  {
   "cell_type": "markdown",
   "metadata": {},
   "source": [
    "#### 사용"
   ]
  },
  {
   "cell_type": "code",
   "execution_count": 14,
   "metadata": {},
   "outputs": [
    {
     "name": "stdout",
     "output_type": "stream",
     "text": [
      "rose\n",
      "daisy\n",
      "lily\n",
      "tulip\n"
     ]
    }
   ],
   "source": [
    "#전형적인 예\n",
    "\n",
    "flower = ['rose', 'daisy', 'lily', 'tulip']\n",
    "for i in flower:\n",
    "    print(i)"
   ]
  },
  {
   "cell_type": "code",
   "execution_count": 22,
   "metadata": {},
   "outputs": [
    {
     "name": "stdout",
     "output_type": "stream",
     "text": [
      "tonystark\n",
      "caroldanvers\n",
      "peterparker\n"
     ]
    }
   ],
   "source": [
    "#다양한 For문의 사용\n",
    "#tuple\n",
    "\n",
    "marvel = [('tony','stark'), ('carol','danvers'),('peter','parker')]\n",
    "for (first, last) in marvel:\n",
    "    print(first + last)"
   ]
  },
  {
   "cell_type": "markdown",
   "metadata": {},
   "source": [
    "#### 응용"
   ]
  },
  {
   "cell_type": "code",
   "execution_count": 18,
   "metadata": {},
   "outputs": [
    {
     "name": "stdout",
     "output_type": "stream",
     "text": [
      "1번 학생은 합격입니다.\n",
      "2번 학생은 불합격입니다.\n",
      "3번 학생은 합격입니다.\n",
      "4번 학생은 합격입니다.\n"
     ]
    }
   ],
   "source": [
    "#합격 불합격 \n",
    "\n",
    "scores = [90, 30, 50, 77]\n",
    "\n",
    "number = 0 #순서는 항상 0부터\n",
    "for score in scores:\n",
    "    number = number + 1 #1씩 더하면서 계산 (학생수?)\n",
    "    if score >= 50:\n",
    "        print('%s번 학생은 합격입니다.' % number)\n",
    "    else:\n",
    "        print('%s번 학생은 불합격입니다.' % number)"
   ]
  },
  {
   "cell_type": "code",
   "execution_count": 17,
   "metadata": {},
   "outputs": [],
   "source": [
    "#+ 선택지를 늘려서 사용 elif\n",
    "\n"
   ]
  },
  {
   "cell_type": "markdown",
   "metadata": {},
   "source": [
    "#### With CONTINUE"
   ]
  },
  {
   "cell_type": "markdown",
   "metadata": {},
   "source": [
    "for문의 처음으로 돌아가게 하는 함수\n",
    "\n",
    "- while & for 에 계속 돌리는 / if문의 pass 비슷한 개념\n",
    "\n",
    "-if else를 쓸 때 "
   ]
  },
  {
   "cell_type": "code",
   "execution_count": 19,
   "metadata": {},
   "outputs": [
    {
     "name": "stdout",
     "output_type": "stream",
     "text": [
      "1번 학생 축하합니다. 합격입니다.\n",
      "3번 학생 축하합니다. 합격입니다.\n",
      "4번 학생 축하합니다. 합격입니다.\n"
     ]
    }
   ],
   "source": [
    "#합격 불합격 2\n",
    "\n",
    "scores = [90, 30, 50, 77]\n",
    "\n",
    "number = 0\n",
    "for score in scores:\n",
    "    number = number + 1\n",
    "    if score < 50:\n",
    "        continue\n",
    "    print('%s번 학생 축하합니다. 합격입니다.' % number)"
   ]
  },
  {
   "cell_type": "markdown",
   "metadata": {},
   "source": [
    "#### With RANGE"
   ]
  },
  {
   "cell_type": "markdown",
   "metadata": {},
   "source": [
    "숫자 리스트를 자동으로 만들어 줌 \n",
    "- a = range(00)\n",
    "    - 0 부터 00 미만의 숫자를 포함하는 range 객체 생성 \n",
    "- range(x,y) \n",
    "    - 시작 숫자와 끝 숫자 지정 (끝 숫자 미포함)\n",
    "- len(a)는 여전히 리스트 안의 요소 갯수를 count \n",
    "    - len(range(x))로 쓰일 수 있음"
   ]
  },
  {
   "cell_type": "code",
   "execution_count": null,
   "metadata": {},
   "outputs": [],
   "source": [
    "#range(x)\n",
    "print(range(10))\n",
    "\n",
    "#list(range(X))\n",
    "print(list(range(10)))"
   ]
  },
  {
   "cell_type": "markdown",
   "metadata": {},
   "source": [
    "#### 응용"
   ]
  },
  {
   "cell_type": "code",
   "execution_count": 23,
   "metadata": {},
   "outputs": [
    {
     "name": "stdout",
     "output_type": "stream",
     "text": [
      "55\n"
     ]
    }
   ],
   "source": [
    "sum = 0\n",
    "for i in range (1,11):\n",
    "    sum = sum + i\n",
    "\n",
    "print(sum)\n",
    "\n",
    "#"
   ]
  },
  {
   "cell_type": "code",
   "execution_count": null,
   "metadata": {},
   "outputs": [],
   "source": [
    "#합격 불합격의 range 사용 \n",
    "\n",
    "scores = [90, 30, 50, 77]\n",
    "for number in range(len(scores)): #range(len(x)) = range(5)\n",
    "    if scores[number] < 50:\n",
    "        continue\n",
    "    print(''%s번 학생 축하합니다. 합격입니다' % (number+1))"
   ]
  },
  {
   "cell_type": "markdown",
   "metadata": {},
   "source": [
    "- 구구단 계산"
   ]
  },
  {
   "cell_type": "code",
   "execution_count": null,
   "metadata": {},
   "outputs": [],
   "source": [
    "\n",
    "\n",
    "for i in range(2,10):\n",
    "    for j in range(1,10):\n",
    "        print(i*j, end='') #ends' : 자동으로 enter하지말고 한 칸씩 띄워서 출력 (그 줄에 계속 출력하기 위함)\n",
    "    print('') #i 바뀔 때마다 줄 갈아주기"
   ]
  },
  {
   "cell_type": "markdown",
   "metadata": {},
   "source": [
    "#### 리스트 내포 (list comprehension)"
   ]
  },
  {
   "cell_type": "code",
   "execution_count": null,
   "metadata": {},
   "outputs": [],
   "source": [
    "????"
   ]
  }
 ],
 "metadata": {
  "kernelspec": {
   "display_name": "Python 3",
   "language": "python",
   "name": "python3"
  },
  "language_info": {
   "codemirror_mode": {
    "name": "ipython",
    "version": 3
   },
   "file_extension": ".py",
   "mimetype": "text/x-python",
   "name": "python",
   "nbconvert_exporter": "python",
   "pygments_lexer": "ipython3",
   "version": "3.7.3"
  }
 },
 "nbformat": 4,
 "nbformat_minor": 2
}
