{
 "cells": [
  {
   "cell_type": "code",
   "execution_count": 4,
   "metadata": {},
   "outputs": [
    {
     "name": "stdout",
     "output_type": "stream",
     "text": [
      "가짜피자4000가짜피자4000가짜피자4000가짜피자4000가짜피자4000\n"
     ]
    }
   ],
   "source": [
    "#List\n",
    "pizza = [\"그냥피자\", \"야채피자\", \"불고기피자\", \"방사능피자\", [1000,2000,3000,4000], \"가짜피자\"]\n",
    "\n",
    "print(((pizza[5])+str(pizza[4][3]))*5)"
   ]
  },
  {
   "cell_type": "code",
   "execution_count": 2,
   "metadata": {},
   "outputs": [
    {
     "name": "stdout",
     "output_type": "stream",
     "text": [
      "['철학코딩', '서양철학사', '실존주의', '인식론', '철학딥러닝']\n"
     ]
    }
   ],
   "source": [
    "#List\n",
    "philosophy = ['철학개론', '서양철학사', '동양근세철학', '형이상학', '실존주의', '인식론']\n",
    "\n",
    "#'동양근세철학'과 '형이상학'을 폐강\n",
    "philosophy.remove('동양근세철학') #왜 del은 안될까요?\n",
    "philosophy.remove('형이상학')\n",
    "\n",
    "#'철학개론'을 '철학코딩'으로 명칭 변경\n",
    "philosophy[0] = '철학코딩'\n",
    "\n",
    "#'철학딥러닝'을 과목 리스트에 추가\n",
    "philosophy.append('철학딥러닝')\n",
    "\n",
    "print(philosophy)"
   ]
  },
  {
   "cell_type": "code",
   "execution_count": 4,
   "metadata": {},
   "outputs": [
    {
     "name": "stdout",
     "output_type": "stream",
     "text": [
      "('pizza', 'pizza', 'pizza', 'pizza', 'pizza', 'pizza')\n"
     ]
    }
   ],
   "source": [
    "#Tuple\n",
    "a = ('pizza', )\n",
    "\n",
    "print(a*6)"
   ]
  },
  {
   "cell_type": "code",
   "execution_count": 6,
   "metadata": {},
   "outputs": [
    {
     "name": "stdout",
     "output_type": "stream",
     "text": [
      "192.0\n",
      "['의예과', '심리학과', '물리학과', '연극학과', '동양화과', '철학과']\n"
     ]
    }
   ],
   "source": [
    "#Dictionary\n",
    "s_dict = {'의예과':99.9, '경영학과':96.2, '심리학과':92.1, '물리학과':88.5, '연극학과':32.0, '동양화과':0}\n",
    "\n",
    "#평균 점수가 52.5점인 철학과를 딕셔너리에 추가\n",
    "s_dict['철학과'] = 52.5\n",
    "\n",
    "#경영학과의 자료를 삭제하고, (이까지는 출력할 필요 없음)\n",
    "del s_dict['경영학과']\n",
    "\n",
    "#의예과와 심리학과의 수능 점수를 더한 값을 출력\n",
    "print(s_dict['의예과'] + s_dict['심리학과'])\n",
    "\n",
    "#B대학교 학과의 리스트를 출력하시오. (dict_keys가 아닌 리스트 자료형으로 출력하시오)\n",
    "print(list(s_dict.keys()))"
   ]
  },
  {
   "cell_type": "code",
   "execution_count": 7,
   "metadata": {},
   "outputs": [
    {
     "name": "stdout",
     "output_type": "stream",
     "text": [
      "{'대통령', '연구원'}\n",
      "{'대통령', '알바', '컴퓨터', '교수', '철학자', '시인', '로또당첨', '연구원', '우주비행사', '판사', '건물주', '백수'}\n",
      "{'교수', '로또당첨', '우주비행사', '판사', '건물주'}\n"
     ]
    }
   ],
   "source": [
    "#Set \n",
    "a = set(['건물주', '교수', '판사', '연구원', '우주비행사', '대통령', '로또당첨'])\n",
    "b = set(['백수', '컴퓨터', '알바', '연구원', '대통령', '철학자', '시인'])\n",
    "\n",
    "#교집합\n",
    "print(a & b)\n",
    "\n",
    "#합집합\n",
    "print(a | b)\n",
    "\n",
    "#difference\n",
    "print(a - b)\n"
   ]
  },
  {
   "cell_type": "code",
   "execution_count": null,
   "metadata": {},
   "outputs": [],
   "source": []
  }
 ],
 "metadata": {
  "kernelspec": {
   "display_name": "Python 3",
   "language": "python",
   "name": "python3"
  },
  "language_info": {
   "codemirror_mode": {
    "name": "ipython",
    "version": 3
   },
   "file_extension": ".py",
   "mimetype": "text/x-python",
   "name": "python",
   "nbconvert_exporter": "python",
   "pygments_lexer": "ipython3",
   "version": "3.7.3"
  }
 },
 "nbformat": 4,
 "nbformat_minor": 2
}
