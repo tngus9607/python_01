{
 "cells": [
  {
   "cell_type": "markdown",
   "metadata": {},
   "source": [
    "# LIST, TUPLE, DICTIONARY, SET"
   ]
  },
  {
   "cell_type": "markdown",
   "metadata": {},
   "source": [
    "## shyoon"
   ]
  },
  {
   "cell_type": "markdown",
   "metadata": {},
   "source": [
    "### LIST"
   ]
  },
  {
   "cell_type": "markdown",
   "metadata": {},
   "source": [
    "DEF_여러 값 (모음)을 나열하는 것"
   ]
  },
  {
   "cell_type": "markdown",
   "metadata": {},
   "source": [
    "대괄호 ([])로 감싸 주고 각 요솟값은 (,)로 구분"
   ]
  },
  {
   "cell_type": "markdown",
   "metadata": {},
   "source": [
    "--> 리스트명 = [a, b, c, ...] empty list부터 숫자, 문자 혼합 & 리스트 자체까지"
   ]
  },
  {
   "cell_type": "code",
   "execution_count": 8,
   "metadata": {},
   "outputs": [],
   "source": [
    "a = [] #empty list\n",
    "b = [3, 6, 9] #numbers\n",
    "c = ['I', 'am', 'IRONMAN'] #strings\n",
    "d = [3, 6, 'IRONMAN'] #numbers, strings\n",
    "e = [3, ['I', 'IRONMAN']] #numbers, list"
   ]
  },
  {
   "cell_type": "code",
   "execution_count": 9,
   "metadata": {},
   "outputs": [
    {
     "name": "stdout",
     "output_type": "stream",
     "text": [
      "[]\n",
      "['I', 'am', 'IRONMAN']\n",
      "[3, ['I', 'IRONMAN']]\n"
     ]
    }
   ],
   "source": [
    "print(a)\n",
    "print(c)\n",
    "print(e)"
   ]
  },
  {
   "cell_type": "markdown",
   "metadata": {},
   "source": [
    "_**Empty list = list () / a = []_"
   ]
  },
  {
   "cell_type": "markdown",
   "metadata": {},
   "source": [
    "#### 'Indexing & Slicing'"
   ]
  },
  {
   "cell_type": "markdown",
   "metadata": {},
   "source": [
    "1. indexing"
   ]
  },
  {
   "cell_type": "code",
   "execution_count": 22,
   "metadata": {},
   "outputs": [
    {
     "data": {
      "text/plain": [
       "[1, 2, 3, 4, 5, 6, 7, 8, 9]"
      ]
     },
     "execution_count": 22,
     "metadata": {},
     "output_type": "execute_result"
    }
   ],
   "source": [
    "a = [1, 2, 3, 4, 5, 6, 7, 8, 9]\n",
    "a"
   ]
  },
  {
   "cell_type": "code",
   "execution_count": 18,
   "metadata": {},
   "outputs": [
    {
     "data": {
      "text/plain": [
       "1"
      ]
     },
     "execution_count": 18,
     "metadata": {},
     "output_type": "execute_result"
    }
   ],
   "source": [
    "a[0] #0은 첫 번째 요소 값_first value"
   ]
  },
  {
   "cell_type": "code",
   "execution_count": 13,
   "metadata": {},
   "outputs": [
    {
     "data": {
      "text/plain": [
       "6"
      ]
     },
     "execution_count": 13,
     "metadata": {},
     "output_type": "execute_result"
    }
   ],
   "source": [
    "a[0] + a[4] #첫 번째 + 네 번째 (1 +5)"
   ]
  },
  {
   "cell_type": "code",
   "execution_count": 14,
   "metadata": {},
   "outputs": [
    {
     "data": {
      "text/plain": [
       "9"
      ]
     },
     "execution_count": 14,
     "metadata": {},
     "output_type": "execute_result"
    }
   ],
   "source": [
    "a[-1] #마지막 요소 값"
   ]
  },
  {
   "cell_type": "code",
   "execution_count": 23,
   "metadata": {
    "scrolled": true
   },
   "outputs": [
    {
     "name": "stdout",
     "output_type": "stream",
     "text": [
      "1\n",
      "6\n",
      "9\n"
     ]
    }
   ],
   "source": [
    "print(a[0]) \n",
    "print(a[0]+a[4])\n",
    "print(a[-1])"
   ]
  },
  {
   "cell_type": "markdown",
   "metadata": {},
   "source": [
    "- indexing_numbers+list(strings)"
   ]
  },
  {
   "cell_type": "code",
   "execution_count": 24,
   "metadata": {},
   "outputs": [],
   "source": [
    "nl = [1, 2, 3, ['I', 'am', 'IRONMAN']]"
   ]
  },
  {
   "cell_type": "code",
   "execution_count": 27,
   "metadata": {},
   "outputs": [
    {
     "name": "stdout",
     "output_type": "stream",
     "text": [
      "1\n",
      "['I', 'am', 'IRONMAN']\n",
      "IRONMAN\n"
     ]
    }
   ],
   "source": [
    "print(nl[0])\n",
    "print(nl[-1])\n",
    "print(nl[-1][2]) #리스트의 요소를 빼오는 법"
   ]
  },
  {
   "cell_type": "markdown",
   "metadata": {},
   "source": [
    "**문자열과 숫자형은 더하기 x --> 숫자형을 str함수를 이용해 문자형으로!"
   ]
  },
  {
   "cell_type": "code",
   "execution_count": 31,
   "metadata": {
    "scrolled": true
   },
   "outputs": [
    {
     "name": "stdout",
     "output_type": "stream",
     "text": [
      "3000\n",
      "nothing_mydream\n"
     ]
    },
    {
     "data": {
      "text/plain": [
       "'100nothing_mydream'"
      ]
     },
     "execution_count": 31,
     "metadata": {},
     "output_type": "execute_result"
    }
   ],
   "source": [
    "Todolist = [0, 100, 3000, \"python\", \"translation\", \"nothing_mydream\"]\n",
    "print(Todolist[2])\n",
    "print(Todolist[5])\n",
    "str(Todolist[1])+Todolist[5] #str()+ooo"
   ]
  },
  {
   "cell_type": "markdown",
   "metadata": {},
   "source": [
    "- 삼중 리스트에서 indexing"
   ]
  },
  {
   "cell_type": "code",
   "execution_count": null,
   "metadata": {},
   "outputs": [],
   "source": [
    "리스트 안의 요소 추출__listname[0][0] #위 리스트의 요소를 빼오는 법과 동일?"
   ]
  },
  {
   "cell_type": "code",
   "execution_count": 34,
   "metadata": {},
   "outputs": [
    {
     "name": "stdout",
     "output_type": "stream",
     "text": [
      "15\n"
     ]
    }
   ],
   "source": [
    "liking = ['cha', 'movie', 'doggy', 'smallthings', [3, 6, 9, 12, 15]]\n",
    "print(liking[4][4])"
   ]
  },
  {
   "cell_type": "markdown",
   "metadata": {},
   "source": [
    "2. slicing"
   ]
  },
  {
   "cell_type": "markdown",
   "metadata": {},
   "source": [
    "string과 동일한 방식 \n",
    "- a[x:y] x이상 y미만\n",
    "- a[x:] x부터 끝까지\n",
    "- a[:y] 처음부터 y까지\n",
    "- a[:] 처음부터 끝까지\n",
    "- a[x:-y] 뒤에서 문자세기"
   ]
  },
  {
   "cell_type": "code",
   "execution_count": 35,
   "metadata": {},
   "outputs": [
    {
     "name": "stdout",
     "output_type": "stream",
     "text": [
      "[1, 2, 3]\n",
      "[1, 2]\n",
      "[3, 4, 5]\n"
     ]
    }
   ],
   "source": [
    "a = [1, 2, 3, 4, 5, 6]\n",
    "print(a[:3])\n",
    "print(a[0:2])\n",
    "print(a[2:-1])"
   ]
  },
  {
   "cell_type": "markdown",
   "metadata": {},
   "source": [
    "- multiple lists"
   ]
  },
  {
   "cell_type": "code",
   "execution_count": 36,
   "metadata": {},
   "outputs": [
    {
     "name": "stdout",
     "output_type": "stream",
     "text": [
      "[3, ['I', 'am', 'IRONMAN'], 4]\n",
      "['IRONMAN']\n"
     ]
    }
   ],
   "source": [
    "a = [1, 2, 3, ['I', 'am', 'IRONMAN'], 4, 5]\n",
    "print(a[2:5])\n",
    "print(a[3][2:])"
   ]
  },
  {
   "cell_type": "markdown",
   "metadata": {},
   "source": [
    "#### list 연산"
   ]
  },
  {
   "cell_type": "markdown",
   "metadata": {},
   "source": [
    "string과 동일한 방식\n",
    "- 덧셈 = +\n",
    "- 반복 = *\n",
    "- 길이 추출 = len"
   ]
  },
  {
   "cell_type": "code",
   "execution_count": 38,
   "metadata": {},
   "outputs": [
    {
     "name": "stdout",
     "output_type": "stream",
     "text": [
      "['ironman', 'groot', 'spiderman', 'captainmarvel', 'blackpanther', 'batman', 'superman', 'wonderwoman', 'joker']\n"
     ]
    }
   ],
   "source": [
    "#덧셈\n",
    "marvel = ['ironman', 'groot', 'spiderman', 'captainmarvel', 'blackpanther']\n",
    "dc = ['batman', 'superman', 'wonderwoman', 'joker']\n",
    "print(marvel+dc) "
   ]
  },
  {
   "cell_type": "code",
   "execution_count": 39,
   "metadata": {
    "scrolled": true
   },
   "outputs": [
    {
     "name": "stdout",
     "output_type": "stream",
     "text": [
      "['I', 'want', 'ironman', 'back', 'I', 'want', 'ironman', 'back', 'I', 'want', 'ironman', 'back', 'I', 'want', 'ironman', 'back', 'I', 'want', 'ironman', 'back']\n"
     ]
    }
   ],
   "source": [
    "#반복\n",
    "marvel = ['I', 'want', 'ironman', 'back']\n",
    "print(marvel*5)"
   ]
  },
  {
   "cell_type": "code",
   "execution_count": 40,
   "metadata": {},
   "outputs": [
    {
     "data": {
      "text/plain": [
       "10"
      ]
     },
     "execution_count": 40,
     "metadata": {},
     "output_type": "execute_result"
    }
   ],
   "source": [
    "#len\n",
    "say = ['hey', 'why', 'did', 'you', 'kill', 'Tony', 'he', 'has', 'a', 'daughter']\n",
    "len(say)"
   ]
  },
  {
   "cell_type": "markdown",
   "metadata": {},
   "source": [
    "#### 수정과 삭제"
   ]
  },
  {
   "cell_type": "code",
   "execution_count": 41,
   "metadata": {},
   "outputs": [
    {
     "name": "stdout",
     "output_type": "stream",
     "text": [
      "[1, 2, 0]\n"
     ]
    }
   ],
   "source": [
    "#리스트에서 값 수정\n",
    "a = [1, 2, 3]\n",
    "a[2] = 0\n",
    "print(a)"
   ]
  },
  {
   "cell_type": "code",
   "execution_count": 42,
   "metadata": {},
   "outputs": [
    {
     "name": "stdout",
     "output_type": "stream",
     "text": [
      "['movies', 'netflix', 'books', 'karaoke']\n"
     ]
    }
   ],
   "source": [
    "hobby = ['movies', 'netflix', 'books', 'gaming']\n",
    "hobby[3] = 'karaoke'\n",
    "print(hobby)"
   ]
  },
  {
   "cell_type": "code",
   "execution_count": 43,
   "metadata": {},
   "outputs": [
    {
     "name": "stdout",
     "output_type": "stream",
     "text": [
      "[2, 3]\n"
     ]
    }
   ],
   "source": [
    "#del 함수 사용 = 삭제 del a[x] 및 개체로 사용 가능 - index만 가능\n",
    "a = [1, 2, 3]\n",
    "del a[0]\n",
    "print(a)"
   ]
  },
  {
   "cell_type": "code",
   "execution_count": 44,
   "metadata": {},
   "outputs": [
    {
     "name": "stdout",
     "output_type": "stream",
     "text": [
      "['I', 'love', 'python']\n"
     ]
    }
   ],
   "source": [
    "list = ['I', 'hate', 'love', 'python']\n",
    "del list[1]\n",
    "print(list)"
   ]
  },
  {
   "cell_type": "code",
   "execution_count": 131,
   "metadata": {
    "scrolled": true
   },
   "outputs": [
    {
     "name": "stdout",
     "output_type": "stream",
     "text": [
      "['spiderman', 'drstrange', 'nickfury']\n"
     ]
    }
   ],
   "source": [
    "##????&&\n",
    "fiveyrs = ['spiderman', 'drstrange', 'blackpanther', 'wanda', 'nickfury']\n",
    "del fiveyrs[2:4]\n",
    "print(fiveyrs)"
   ]
  },
  {
   "cell_type": "markdown",
   "metadata": {},
   "source": [
    "#### 관련 함수들 "
   ]
  },
  {
   "cell_type": "markdown",
   "metadata": {},
   "source": [
    "요소 추가 = append (def. 덧붙이다, 첨부하다)\n",
    "- 마지막에 요소 추가"
   ]
  },
  {
   "cell_type": "code",
   "execution_count": 52,
   "metadata": {},
   "outputs": [
    {
     "name": "stdout",
     "output_type": "stream",
     "text": [
      "[1, 2, 3, 4]\n"
     ]
    }
   ],
   "source": [
    "a = [1, 2, 3]\n",
    "a.append(4)\n",
    "print(a)"
   ]
  },
  {
   "cell_type": "code",
   "execution_count": 53,
   "metadata": {},
   "outputs": [
    {
     "name": "stdout",
     "output_type": "stream",
     "text": [
      "[1, 2, 3, 4, ['pho', 'chipotle']]\n"
     ]
    }
   ],
   "source": [
    "#또 다른 리스트 추가\n",
    "a = [1, 2, 3, 4]\n",
    "a.append(['pho', 'chipotle'])\n",
    "print(a)"
   ]
  },
  {
   "cell_type": "markdown",
   "metadata": {},
   "source": [
    "리스트 정렬 = sort\n",
    "- 순서대로 정렬"
   ]
  },
  {
   "cell_type": "code",
   "execution_count": 55,
   "metadata": {},
   "outputs": [
    {
     "name": "stdout",
     "output_type": "stream",
     "text": [
      "[1, 3, 4, 5, 6]\n"
     ]
    }
   ],
   "source": [
    "a = [1, 6, 5, 4, 3]\n",
    "a.sort()\n",
    "print(a)"
   ]
  },
  {
   "cell_type": "code",
   "execution_count": 56,
   "metadata": {},
   "outputs": [
    {
     "name": "stdout",
     "output_type": "stream",
     "text": [
      "['a', 'n', 't']\n"
     ]
    }
   ],
   "source": [
    "a = ['a', 't', 'n']\n",
    "a.sort()\n",
    "print(a)"
   ]
  },
  {
   "cell_type": "code",
   "execution_count": 58,
   "metadata": {},
   "outputs": [
    {
     "name": "stdout",
     "output_type": "stream",
     "text": [
      "['daisy', 'lily', 'rose', 'tulip']\n"
     ]
    }
   ],
   "source": [
    "flower = ['rose', 'daisy', 'lily', 'tulip']\n",
    "flower.sort()\n",
    "print(flower)"
   ]
  },
  {
   "cell_type": "markdown",
   "metadata": {},
   "source": [
    "리스트 뒤집기 = reverse \n",
    "- 현재의 리스트를 그대로 역순으로 뒤집어 줌"
   ]
  },
  {
   "cell_type": "code",
   "execution_count": 132,
   "metadata": {},
   "outputs": [
    {
     "name": "stdout",
     "output_type": "stream",
     "text": [
      "[6, 3, 2, 1]\n"
     ]
    }
   ],
   "source": [
    "a = [1, 3, 2, 6] **\n",
    "a.sort()\n",
    "a.reverse()\n",
    "print(a)"
   ]
  },
  {
   "cell_type": "code",
   "execution_count": 61,
   "metadata": {},
   "outputs": [
    {
     "name": "stdout",
     "output_type": "stream",
     "text": [
      "['burgerking', 'chipotle', 'panda', 'domino']\n"
     ]
    }
   ],
   "source": [
    "food = ['domino', 'panda', 'chipotle', 'burgerking']\n",
    "food.reverse()\n",
    "print(food)"
   ]
  },
  {
   "cell_type": "markdown",
   "metadata": {},
   "source": [
    "위치 반환 = index\n",
    "- 리스트에 x 값이 있으면 위치 값을 돌려줌"
   ]
  },
  {
   "cell_type": "code",
   "execution_count": 64,
   "metadata": {},
   "outputs": [
    {
     "data": {
      "text/plain": [
       "2"
      ]
     },
     "execution_count": 64,
     "metadata": {},
     "output_type": "execute_result"
    }
   ],
   "source": [
    "a = [1, 2, 3]\n",
    "a.index(3)"
   ]
  },
  {
   "cell_type": "code",
   "execution_count": 65,
   "metadata": {},
   "outputs": [
    {
     "ename": "ValueError",
     "evalue": "5 is not in list",
     "output_type": "error",
     "traceback": [
      "\u001b[1;31m---------------------------------------------------------------------------\u001b[0m",
      "\u001b[1;31mValueError\u001b[0m                                Traceback (most recent call last)",
      "\u001b[1;32m<ipython-input-65-271e9f1ce143>\u001b[0m in \u001b[0;36m<module>\u001b[1;34m\u001b[0m\n\u001b[0;32m      1\u001b[0m \u001b[1;31m#값이 없으면,\u001b[0m\u001b[1;33m\u001b[0m\u001b[1;33m\u001b[0m\u001b[1;33m\u001b[0m\u001b[0m\n\u001b[1;32m----> 2\u001b[1;33m \u001b[0ma\u001b[0m\u001b[1;33m.\u001b[0m\u001b[0mindex\u001b[0m\u001b[1;33m(\u001b[0m\u001b[1;36m5\u001b[0m\u001b[1;33m)\u001b[0m\u001b[1;33m\u001b[0m\u001b[1;33m\u001b[0m\u001b[0m\n\u001b[0m",
      "\u001b[1;31mValueError\u001b[0m: 5 is not in list"
     ]
    }
   ],
   "source": [
    "#값이 없으면, value error\n",
    "a.index(5)"
   ]
  },
  {
   "cell_type": "markdown",
   "metadata": {},
   "source": [
    "요소 삽입 = insert(a,b)\n",
    "- a번째 위치에 b를 삽입 (0부터 count!)"
   ]
  },
  {
   "cell_type": "code",
   "execution_count": 66,
   "metadata": {},
   "outputs": [
    {
     "name": "stdout",
     "output_type": "stream",
     "text": [
      "[8, 1, 2, 3, 5, 10, 12]\n"
     ]
    }
   ],
   "source": [
    "time = [1, 2, 3, 5, 10, 12]\n",
    "time.insert(0, 8)\n",
    "print(time)"
   ]
  },
  {
   "cell_type": "markdown",
   "metadata": {},
   "source": [
    "요소 제거 = remove \n",
    "- 리스트에서 첫 번째로 나오는 x를 삭제"
   ]
  },
  {
   "cell_type": "code",
   "execution_count": 67,
   "metadata": {},
   "outputs": [
    {
     "name": "stdout",
     "output_type": "stream",
     "text": [
      "['학', '연', '차', '학', '연']\n"
     ]
    }
   ],
   "source": [
    "a = ['차', '학', '연', '차', '학', '연']\n",
    "a.remove('차')\n",
    "print(a)"
   ]
  },
  {
   "cell_type": "code",
   "execution_count": 68,
   "metadata": {},
   "outputs": [
    {
     "name": "stdout",
     "output_type": "stream",
     "text": [
      "['학', '연', '학', '연']\n"
     ]
    }
   ],
   "source": [
    "#re-do \n",
    "a.remove('차')\n",
    "print(a)"
   ]
  },
  {
   "cell_type": "markdown",
   "metadata": {},
   "source": [
    "요소 끄집어내기 = pop\n",
    "- 맨 마지막 요소를 돌려주고 그 요소는 삭제"
   ]
  },
  {
   "cell_type": "code",
   "execution_count": 70,
   "metadata": {},
   "outputs": [
    {
     "data": {
      "text/plain": [
       "3"
      ]
     },
     "execution_count": 70,
     "metadata": {},
     "output_type": "execute_result"
    }
   ],
   "source": [
    "a = [1, 2, 3]\n",
    "a.pop()"
   ]
  },
  {
   "cell_type": "code",
   "execution_count": 71,
   "metadata": {},
   "outputs": [
    {
     "name": "stdout",
     "output_type": "stream",
     "text": [
      "[1, 2]\n"
     ]
    }
   ],
   "source": [
    "print(a)"
   ]
  },
  {
   "cell_type": "markdown",
   "metadata": {},
   "source": [
    "리스트에 포함된 요소 x의 개수 세기= count\n",
    "- 리스트 안에 x가 몇 개 있는지 조사하여 갯수를 돌려줌"
   ]
  },
  {
   "cell_type": "code",
   "execution_count": 72,
   "metadata": {},
   "outputs": [
    {
     "data": {
      "text/plain": [
       "4"
      ]
     },
     "execution_count": 72,
     "metadata": {},
     "output_type": "execute_result"
    }
   ],
   "source": [
    "a = [1, 2, 3, 1, 1, 1, 3]\n",
    "a.count(1)"
   ]
  },
  {
   "cell_type": "markdown",
   "metadata": {},
   "source": [
    "리스트 확장 = extend\n",
    "- x에는 리스트만 올 수 있으며, 원래의 a 리스트에 x 리스트를 더함 (+와 같은기능"
   ]
  },
  {
   "cell_type": "code",
   "execution_count": 73,
   "metadata": {},
   "outputs": [
    {
     "name": "stdout",
     "output_type": "stream",
     "text": [
      "['prince', 'ali', 'fabulous', 'he', 'ali', 'ababwa']\n"
     ]
    }
   ],
   "source": [
    "a = ['prince', 'ali', 'fabulous'] \n",
    "a.extend(['he', 'ali', 'ababwa'])\n",
    "print(a)"
   ]
  },
  {
   "cell_type": "markdown",
   "metadata": {},
   "source": [
    "### TUPLE"
   ]
  },
  {
   "cell_type": "markdown",
   "metadata": {},
   "source": [
    "몇 가지 점을 제외하곤 리스트와 거의 비슷!\n",
    "\n",
    "*다른 점*\n",
    "- 리스트는 [], 튜플은 ()\n",
    "- 리스트는 그 값의 생성, 삭제, 수정이 가능, but 튜플 CAN'T"
   ]
  },
  {
   "cell_type": "code",
   "execution_count": 74,
   "metadata": {},
   "outputs": [
    {
     "name": "stdout",
     "output_type": "stream",
     "text": [
      "()\n",
      "(1,)\n",
      "(1, 2, 3)\n",
      "(1, 2, 3)\n",
      "('a', 'b', ('ant', 'bee'))\n"
     ]
    }
   ],
   "source": [
    "#EXAMPLE\n",
    "t1 = () #empty tuple\n",
    "print(t1)\n",
    "t2 = (1, ) #MUST include \",\" for 1 value\n",
    "print(t2)\n",
    "t3 = (1, 2, 3) #괄호 생략 가능 \n",
    "print(t3)\n",
    "t4 = 1, 2, 3\n",
    "print(t4)\n",
    "t5 = ('a', 'b', (\"ant\", \"bee\")) #can have tuple as value\n",
    "print(t5)"
   ]
  },
  {
   "cell_type": "markdown",
   "metadata": {},
   "source": [
    "##### 가장 큰 차이\n",
    "튜플은 변화할 수 없는 값! \n",
    "--> 실제 프로그램에서 값이 변경되는 형태의 변수가 훨씬 많아 평균적으로 많이 쓰이지 않음"
   ]
  },
  {
   "cell_type": "code",
   "execution_count": 76,
   "metadata": {},
   "outputs": [
    {
     "ename": "TypeError",
     "evalue": "'tuple' object doesn't support item deletion",
     "output_type": "error",
     "traceback": [
      "\u001b[1;31m---------------------------------------------------------------------------\u001b[0m",
      "\u001b[1;31mTypeError\u001b[0m                                 Traceback (most recent call last)",
      "\u001b[1;32m<ipython-input-76-d51334412740>\u001b[0m in \u001b[0;36m<module>\u001b[1;34m\u001b[0m\n\u001b[0;32m      1\u001b[0m \u001b[1;31m#지우거나 변경하려 한다면..\u001b[0m\u001b[1;33m\u001b[0m\u001b[1;33m\u001b[0m\u001b[1;33m\u001b[0m\u001b[0m\n\u001b[0;32m      2\u001b[0m \u001b[0mt1\u001b[0m \u001b[1;33m=\u001b[0m \u001b[1;33m(\u001b[0m\u001b[1;36m1\u001b[0m\u001b[1;33m,\u001b[0m \u001b[1;36m2\u001b[0m\u001b[1;33m,\u001b[0m \u001b[1;36m3\u001b[0m\u001b[1;33m)\u001b[0m\u001b[1;33m\u001b[0m\u001b[1;33m\u001b[0m\u001b[0m\n\u001b[1;32m----> 3\u001b[1;33m \u001b[1;32mdel\u001b[0m \u001b[0mt1\u001b[0m\u001b[1;33m[\u001b[0m\u001b[1;36m0\u001b[0m\u001b[1;33m]\u001b[0m\u001b[1;33m\u001b[0m\u001b[1;33m\u001b[0m\u001b[0m\n\u001b[0m",
      "\u001b[1;31mTypeError\u001b[0m: 'tuple' object doesn't support item deletion"
     ]
    }
   ],
   "source": [
    "#지우거나 변경하려 한다면.. type error!\n",
    "t1 = (1, 2, 3)\n",
    "del t1[0]"
   ]
  },
  {
   "cell_type": "code",
   "execution_count": 77,
   "metadata": {},
   "outputs": [
    {
     "ename": "TypeError",
     "evalue": "'tuple' object does not support item assignment",
     "output_type": "error",
     "traceback": [
      "\u001b[1;31m---------------------------------------------------------------------------\u001b[0m",
      "\u001b[1;31mTypeError\u001b[0m                                 Traceback (most recent call last)",
      "\u001b[1;32m<ipython-input-77-febaef70d198>\u001b[0m in \u001b[0;36m<module>\u001b[1;34m\u001b[0m\n\u001b[1;32m----> 1\u001b[1;33m \u001b[0mt1\u001b[0m\u001b[1;33m[\u001b[0m\u001b[1;36m0\u001b[0m\u001b[1;33m]\u001b[0m \u001b[1;33m=\u001b[0m \u001b[1;36m0\u001b[0m\u001b[1;33m\u001b[0m\u001b[1;33m\u001b[0m\u001b[0m\n\u001b[0m",
      "\u001b[1;31mTypeError\u001b[0m: 'tuple' object does not support item assignment"
     ]
    }
   ],
   "source": [
    "t1[0] = 0"
   ]
  },
  {
   "cell_type": "markdown",
   "metadata": {},
   "source": [
    "#### 튜플 다루기"
   ]
  },
  {
   "cell_type": "markdown",
   "metadata": {},
   "source": [
    "1. indexing"
   ]
  },
  {
   "cell_type": "code",
   "execution_count": 80,
   "metadata": {},
   "outputs": [
    {
     "data": {
      "text/plain": [
       "1"
      ]
     },
     "execution_count": 80,
     "metadata": {},
     "output_type": "execute_result"
    }
   ],
   "source": [
    "t1 = (1, 2, 'hi', 'hello')\n",
    "t1[0]"
   ]
  },
  {
   "cell_type": "markdown",
   "metadata": {},
   "source": [
    "2. slicing\n"
   ]
  },
  {
   "cell_type": "code",
   "execution_count": 81,
   "metadata": {},
   "outputs": [
    {
     "name": "stdout",
     "output_type": "stream",
     "text": [
      "(1, 2, 'hi', 'hello')\n",
      "(1, 2, 'hi', 'hello')\n",
      "(1, 2, 'hi')\n"
     ]
    }
   ],
   "source": [
    "t1 = (1, 2, 'hi', 'hello')\n",
    "print(t1[0:])\n",
    "print(t1[:])\n",
    "print(t1[:3])"
   ]
  },
  {
   "cell_type": "markdown",
   "metadata": {},
   "source": [
    "3. 연산_ 더하기, 곱하기, 길이 (+, *, len)"
   ]
  },
  {
   "cell_type": "code",
   "execution_count": 84,
   "metadata": {},
   "outputs": [
    {
     "name": "stdout",
     "output_type": "stream",
     "text": [
      "(1, 2, 'hi', 'hello', '안녕', '내', '이름은')\n",
      "('안녕', '내', '이름은', '안녕', '내', '이름은', '안녕', '내', '이름은', '안녕', '내', '이름은')\n",
      "3\n"
     ]
    }
   ],
   "source": [
    "t1 = (1, 2, 'hi', 'hello')\n",
    "t2 = ('안녕', '내', '이름은')\n",
    "print(t1+t2)\n",
    "print(t2*4)\n",
    "print(len(t2))"
   ]
  },
  {
   "cell_type": "markdown",
   "metadata": {},
   "source": [
    "4. count 함수 적용 #요소 갯수 반환"
   ]
  },
  {
   "cell_type": "code",
   "execution_count": 85,
   "metadata": {},
   "outputs": [
    {
     "name": "stdout",
     "output_type": "stream",
     "text": [
      "4\n"
     ]
    }
   ],
   "source": [
    "spidy = ('a', 'n', 'e', 'w', 'a', 'm', 'e', 'r', 'i', 'c', 'a', 's', 'a', 's', 's')\n",
    "print(spidy.count('a'))"
   ]
  },
  {
   "cell_type": "markdown",
   "metadata": {},
   "source": [
    "5. index 함수 적용 #요소의 인덱스를 반환"
   ]
  },
  {
   "cell_type": "code",
   "execution_count": 86,
   "metadata": {},
   "outputs": [
    {
     "name": "stdout",
     "output_type": "stream",
     "text": [
      "11\n"
     ]
    }
   ],
   "source": [
    "spidy = ('a', 'n', 'e', 'w', 'a', 'm', 'e', 'r', 'i', 'c', 'a', 's', 'a', 's', 's')\n",
    "print(spidy.index('s'))"
   ]
  },
  {
   "cell_type": "markdown",
   "metadata": {},
   "source": [
    "### DICTIONARY"
   ]
  },
  {
   "cell_type": "markdown",
   "metadata": {},
   "source": [
    "대응관계를 나타내는 자료형 (associative array / hash)\n",
    "\n",
    "--> Dictionary (in python)\n",
    "KEY와 VALUE as a pair\n",
    "\n",
    "ex) people = 사람 / baseball = 야구 라는 뜻이 부합 되듯 \n",
    "key = baseball, then value = 야구\n",
    "\n",
    "*큰 특징*\n",
    "순차적이지 않고 바로 찾아 봄"
   ]
  },
  {
   "cell_type": "markdown",
   "metadata": {},
   "source": [
    "기본 딕셔너리: \n",
    "    {Key1:Value1, Key2:Value2, Key3:Value3 ...} / dict ({}) \n",
    "    \n",
    "    Key = 변하지 않는 값 - 통해 값을 찾아봄\n",
    "    Value = both 변하는 값 & 변하지 않는 값"
   ]
  },
  {
   "cell_type": "code",
   "execution_count": 91,
   "metadata": {},
   "outputs": [],
   "source": [
    "y_dict0 = {} #empty\n",
    "y_dict1 = dict({'name':'Jenny', 'phone':'6127070447', 'birth':'19960724'}) #mix & dict({})\n",
    "y_dict2 = {1:'counseling', 2:'clinical', 3:'cognitive', 4:'social'} #integer\n",
    "y_dict3 = {'names':['jenny', 'kelly', 'raye'], 'age':[24, 26, 23]} #list"
   ]
  },
  {
   "cell_type": "code",
   "execution_count": 92,
   "metadata": {},
   "outputs": [
    {
     "name": "stdout",
     "output_type": "stream",
     "text": [
      "{}\n",
      "{'name': 'Jenny', 'phone': '6127070447', 'birth': '19960724'}\n",
      "{1: 'counseling', 2: 'clinical', 3: 'cognitive', 4: 'social'}\n",
      "{'names': ['jenny', 'kelly', 'raye'], 'age': [24, 26, 23]}\n"
     ]
    }
   ],
   "source": [
    "print(y_dict0)\n",
    "print(y_dict1)\n",
    "print(y_dict2)\n",
    "print(y_dict3)"
   ]
  },
  {
   "cell_type": "markdown",
   "metadata": {},
   "source": [
    "#### 쌍 추가, 삭제"
   ]
  },
  {
   "cell_type": "markdown",
   "metadata": {},
   "source": [
    "쌍 추가_ a[key] = value\n",
    "\n",
    "요소 삭제_ del a[key]"
   ]
  },
  {
   "cell_type": "code",
   "execution_count": 93,
   "metadata": {
    "scrolled": true
   },
   "outputs": [
    {
     "name": "stdout",
     "output_type": "stream",
     "text": [
      "{1: 'a', 2: 'b'}\n"
     ]
    }
   ],
   "source": [
    "#쌍 추가\n",
    "a = {1:'a'}\n",
    "a[2] = 'b'\n",
    "print(a)"
   ]
  },
  {
   "cell_type": "code",
   "execution_count": 94,
   "metadata": {},
   "outputs": [
    {
     "name": "stdout",
     "output_type": "stream",
     "text": [
      "{2: 'b'}\n"
     ]
    }
   ],
   "source": [
    "#요소 삭제\n",
    "del a[1]\n",
    "print(a)"
   ]
  },
  {
   "cell_type": "markdown",
   "metadata": {},
   "source": [
    "#### 사용법"
   ]
  },
  {
   "cell_type": "markdown",
   "metadata": {},
   "source": [
    "1. Key를 사용해 Value 얻기\n",
    "    - 딕셔너리변수이름[Key]"
   ]
  },
  {
   "cell_type": "markdown",
   "metadata": {},
   "source": [
    "2. 만들 때 주의사항\n",
    "    - Key는 고유 값이므로 중복되면 나머지는 무시 됨\n",
    "    - Key에 리스트는 쓸 수 없음\n",
    "    - indexing, slicing X"
   ]
  },
  {
   "cell_type": "markdown",
   "metadata": {},
   "source": [
    "3. 관련 함수들"
   ]
  },
  {
   "cell_type": "markdown",
   "metadata": {},
   "source": [
    "- Key 리스트 만들기 = keys \n",
    "    - dict_keys 객체 \n",
    "    - 이 객체는 리스트의 고유 함수를 사용할 수 X\n",
    "    - 리스트 자료형으로 만들기 위해 = list(a.keys()) 함수 사용"
   ]
  },
  {
   "cell_type": "code",
   "execution_count": 1,
   "metadata": {
    "scrolled": true
   },
   "outputs": [
    {
     "name": "stdout",
     "output_type": "stream",
     "text": [
      "dict_keys(['name', 'phone', 'birth'])\n"
     ]
    },
    {
     "data": {
      "text/plain": [
       "['name', 'phone', 'birth']"
      ]
     },
     "execution_count": 1,
     "metadata": {},
     "output_type": "execute_result"
    }
   ],
   "source": [
    "dic = dict({'name':'Jenny', 'phone':'6127070447', 'birth':'19960724'})\n",
    "print(dic.keys()) #dict_keys 객체\n",
    "a = list(dic.keys()) #list 자료형 **WHY?? **함수처럼 쓰려했을 때 나오는 오류\n",
    "a"
   ]
  },
  {
   "cell_type": "code",
   "execution_count": 99,
   "metadata": {},
   "outputs": [
    {
     "name": "stdout",
     "output_type": "stream",
     "text": [
      "name\n",
      "phone\n",
      "birth\n"
     ]
    }
   ],
   "source": [
    "#for 사용\n",
    "for my in y_dict1.keys():\n",
    "    print(my)"
   ]
  },
  {
   "cell_type": "markdown",
   "metadata": {},
   "source": [
    "- Value 리스트 만들기  = values\n",
    "    - dict_values 객체\n",
    "    - 여전히 리스트 고유 함수 사용 X\n",
    "    - 리스트 자료형 = list(a.values()) 사용"
   ]
  },
  {
   "cell_type": "code",
   "execution_count": 98,
   "metadata": {},
   "outputs": [
    {
     "name": "stdout",
     "output_type": "stream",
     "text": [
      "dict_values(['Jenny', '6127070447', '19960724'])\n"
     ]
    },
    {
     "ename": "TypeError",
     "evalue": "'list' object is not callable",
     "output_type": "error",
     "traceback": [
      "\u001b[1;31m---------------------------------------------------------------------------\u001b[0m",
      "\u001b[1;31mTypeError\u001b[0m                                 Traceback (most recent call last)",
      "\u001b[1;32m<ipython-input-98-ba3c32e437be>\u001b[0m in \u001b[0;36m<module>\u001b[1;34m\u001b[0m\n\u001b[0;32m      1\u001b[0m \u001b[0my_dict1\u001b[0m \u001b[1;33m=\u001b[0m \u001b[0mdict\u001b[0m\u001b[1;33m(\u001b[0m\u001b[1;33m{\u001b[0m\u001b[1;34m'name'\u001b[0m\u001b[1;33m:\u001b[0m\u001b[1;34m'Jenny'\u001b[0m\u001b[1;33m,\u001b[0m \u001b[1;34m'phone'\u001b[0m\u001b[1;33m:\u001b[0m\u001b[1;34m'6127070447'\u001b[0m\u001b[1;33m,\u001b[0m \u001b[1;34m'birth'\u001b[0m\u001b[1;33m:\u001b[0m\u001b[1;34m'19960724'\u001b[0m\u001b[1;33m}\u001b[0m\u001b[1;33m)\u001b[0m\u001b[1;33m\u001b[0m\u001b[1;33m\u001b[0m\u001b[0m\n\u001b[0;32m      2\u001b[0m \u001b[0mprint\u001b[0m\u001b[1;33m(\u001b[0m\u001b[0my_dict1\u001b[0m\u001b[1;33m.\u001b[0m\u001b[0mvalues\u001b[0m\u001b[1;33m(\u001b[0m\u001b[1;33m)\u001b[0m\u001b[1;33m)\u001b[0m \u001b[1;31m#dict_values 객체\u001b[0m\u001b[1;33m\u001b[0m\u001b[1;33m\u001b[0m\u001b[0m\n\u001b[1;32m----> 3\u001b[1;33m \u001b[0mprint\u001b[0m\u001b[1;33m(\u001b[0m\u001b[0mlist\u001b[0m\u001b[1;33m(\u001b[0m\u001b[0my_dict1\u001b[0m\u001b[1;33m.\u001b[0m\u001b[0mvalues\u001b[0m\u001b[1;33m(\u001b[0m\u001b[1;33m)\u001b[0m\u001b[1;33m)\u001b[0m\u001b[1;33m)\u001b[0m \u001b[1;31m#list 자료형\u001b[0m\u001b[1;33m\u001b[0m\u001b[1;33m\u001b[0m\u001b[0m\n\u001b[0m",
      "\u001b[1;31mTypeError\u001b[0m: 'list' object is not callable"
     ]
    }
   ],
   "source": [
    "y_dict1 = dict({'name':'Jenny', 'phone':'6127070447', 'birth':'19960724'})\n",
    "print(y_dict1.values()) #dict_values 객체\n",
    "print(list(y_dict1.values())) #list 자료형"
   ]
  },
  {
   "cell_type": "markdown",
   "metadata": {},
   "source": [
    "- Key, Value 쌍 얻기 = items \n",
    "    - Key와 Value의 쌍을 튜플로 묶은 값을 dict_items 객체로\n",
    "    - 동일하게 list 사용 가능 "
   ]
  },
  {
   "cell_type": "code",
   "execution_count": 100,
   "metadata": {},
   "outputs": [
    {
     "data": {
      "text/plain": [
       "dict_items([('name', 'Jenny'), ('phone', '6127070447'), ('birth', '19960724')])"
      ]
     },
     "execution_count": 100,
     "metadata": {},
     "output_type": "execute_result"
    }
   ],
   "source": [
    "y_dict1.items()"
   ]
  },
  {
   "cell_type": "markdown",
   "metadata": {},
   "source": [
    "- Key: Value 쌍 모두 지우기 = clear\n",
    "    - 딕셔너리 안의 모든 요소 삭제 \n",
    "    - {}로 표현 (위 침고)"
   ]
  },
  {
   "cell_type": "code",
   "execution_count": 103,
   "metadata": {},
   "outputs": [
    {
     "name": "stdout",
     "output_type": "stream",
     "text": [
      "{}\n"
     ]
    }
   ],
   "source": [
    "y_dict1.clear()\n",
    "print(y_dict1)"
   ]
  },
  {
   "cell_type": "markdown",
   "metadata": {},
   "source": [
    "- Key로 Value 얻기 = get\n",
    "    - x라는 Key에 대응되는 Value를 돌려줌\n",
    "    - 즉, a[key]와 동일한 기능 \n",
    "    - a.get(nokey)와 같이 nokey가 존재하지 않는 key 값일 경우, \n",
    "        get = None 값\n",
    "    - *None = 거짓*\n",
    "    - 찾으려는 Key 값 없을 때 None대신 다른 디폴트 값이 오길 원할 경우, \n",
    "        a.get(key,'디폴트값') 사용"
   ]
  },
  {
   "cell_type": "code",
   "execution_count": 104,
   "metadata": {},
   "outputs": [
    {
     "name": "stdout",
     "output_type": "stream",
     "text": [
      "19960724\n",
      "19960724\n"
     ]
    }
   ],
   "source": [
    "#get vs. a[key] - default value**\n",
    "\n",
    "y_dict1 = dict({'name':'Jenny', 'phone':'6127070447', 'birth':'19960724'})\n",
    "print(y_dict1.get('birth'))\n",
    "print(y_dict1['birth'])"
   ]
  },
  {
   "cell_type": "code",
   "execution_count": 106,
   "metadata": {},
   "outputs": [
    {
     "name": "stdout",
     "output_type": "stream",
     "text": [
      "None\n",
      "secret\n"
     ]
    }
   ],
   "source": [
    "#NONE\n",
    "y_dict1 = dict({'name':'Jenny', 'phone':'6127070447', 'birth':'19960724'})\n",
    "print(y_dict1.get('age'))\n",
    "\n",
    "#othter default\n",
    "print(y_dict1.get('age', 'secret'))"
   ]
  },
  {
   "cell_type": "markdown",
   "metadata": {},
   "source": [
    "- 해당 Key가 딕셔너리 안에 있는지 조사하기 = in\n",
    "    - 'key' in a \n",
    "    - Key중 하나면 TRUE, 아니면 FALSE"
   ]
  },
  {
   "cell_type": "code",
   "execution_count": 107,
   "metadata": {},
   "outputs": [
    {
     "name": "stdout",
     "output_type": "stream",
     "text": [
      "True\n",
      "False\n"
     ]
    }
   ],
   "source": [
    "y_dict1 = dict({'name':'Jenny', 'phone':'6127070447', 'birth':'19960724'})\n",
    "print('name' in y_dict1)\n",
    "print('age' in y_dict1)"
   ]
  },
  {
   "cell_type": "markdown",
   "metadata": {},
   "source": [
    "### SET"
   ]
  },
  {
   "cell_type": "markdown",
   "metadata": {},
   "source": [
    "집합 자료형_unordered\n",
    "- 중복 허용 X\n",
    "- 순서 X\n",
    "    - like Dictionary --> indexing, slicing X\n",
    "    - in order to do it --> set to list / tuple"
   ]
  },
  {
   "cell_type": "markdown",
   "metadata": {},
   "source": [
    "HOW TO USE \n",
    "1. set_name = set(value 1, value 2 ...)\n",
    "2. set_name = {value 1, value 2 ...}"
   ]
  },
  {
   "cell_type": "code",
   "execution_count": 112,
   "metadata": {},
   "outputs": [
    {
     "name": "stdout",
     "output_type": "stream",
     "text": [
      "{'o', 'l', 'e', 'H'}\n",
      "{1, 2, 3}\n",
      "{0, 1, 2, 3, 4, 6}\n",
      "{'bon jour', 'hi', '안녕', 'hello'}\n",
      "set()\n"
     ]
    }
   ],
   "source": [
    "a = set(\"Hello\") #strings\n",
    "b = set([1, 2, 3]) #normal\n",
    "c = set([1, 2, 3, 1, 0, 2, 3, 4, 3, 6, 1, 2]) #중복 numbers\n",
    "d = set(['안녕', 'hello', 'hi', '안녕', 'bon jour', 'hi', 'hi']) #중복된 리스트의 문자열\n",
    "e = set() #empty \n",
    "print(a)\n",
    "print(b)\n",
    "print(c)\n",
    "print(d)\n",
    "print(e)"
   ]
  },
  {
   "cell_type": "markdown",
   "metadata": {},
   "source": [
    "- 리스트, 튜플 자료형으로 변환 뒤 indexing = list, tuple "
   ]
  },
  {
   "cell_type": "code",
   "execution_count": 114,
   "metadata": {},
   "outputs": [
    {
     "ename": "TypeError",
     "evalue": "'list' object is not callable",
     "output_type": "error",
     "traceback": [
      "\u001b[1;31m---------------------------------------------------------------------------\u001b[0m",
      "\u001b[1;31mTypeError\u001b[0m                                 Traceback (most recent call last)",
      "\u001b[1;32m<ipython-input-114-63fa31bc4811>\u001b[0m in \u001b[0;36m<module>\u001b[1;34m\u001b[0m\n\u001b[0;32m      2\u001b[0m \u001b[1;33m\u001b[0m\u001b[0m\n\u001b[0;32m      3\u001b[0m \u001b[1;31m#list\u001b[0m\u001b[1;33m\u001b[0m\u001b[1;33m\u001b[0m\u001b[1;33m\u001b[0m\u001b[0m\n\u001b[1;32m----> 4\u001b[1;33m \u001b[0md_list\u001b[0m \u001b[1;33m=\u001b[0m \u001b[0mlist\u001b[0m\u001b[1;33m(\u001b[0m\u001b[0md\u001b[0m\u001b[1;33m)\u001b[0m\u001b[1;33m\u001b[0m\u001b[1;33m\u001b[0m\u001b[0m\n\u001b[0m\u001b[0;32m      5\u001b[0m \u001b[0mprint\u001b[0m\u001b[1;33m(\u001b[0m\u001b[0md_list\u001b[0m\u001b[1;33m)\u001b[0m\u001b[1;33m\u001b[0m\u001b[1;33m\u001b[0m\u001b[0m\n\u001b[0;32m      6\u001b[0m \u001b[1;33m\u001b[0m\u001b[0m\n",
      "\u001b[1;31mTypeError\u001b[0m: 'list' object is not callable"
     ]
    }
   ],
   "source": [
    "d = set(['안녕', 'hello', 'hi', '안녕', 'bon jour', 'hi', 'hi'])\n",
    "\n",
    "#list\n",
    "d_list = list(d) \n",
    "print(d_list)\n",
    "\n",
    "#tuple\n",
    "d_tuple = tuple(d)\n",
    "print(d_tuple)\n",
    "\n",
    "#indexing\n",
    "print(d_list[2])\n",
    "print(d_tuple[0])\n",
    "\n",
    "#slicing? \n",
    "print(d_list[2:])\n",
    "print(d_tuple[2:-1])"
   ]
  },
  {
   "cell_type": "markdown",
   "metadata": {},
   "source": [
    "#### 교집합, 합집합, 차집합 구하기 \n",
    "    - 교집합 = x & y / x.intersection(y) (반대로 넣어도 같은 결과)\n",
    "    - 합집합 = x | y / x.union(y) (반대로 넣어도 같은 결과)\n",
    "    - 차집합 = x - y / x.difference(y) "
   ]
  },
  {
   "cell_type": "code",
   "execution_count": 116,
   "metadata": {},
   "outputs": [
    {
     "name": "stdout",
     "output_type": "stream",
     "text": [
      "{4, 5, 6}\n",
      "{4, 5, 6}\n",
      "{1, 2, 3, 4, 5, 6, 7, 8, 9}\n",
      "{1, 2, 3, 4, 5, 6, 7, 8, 9}\n",
      "{1, 2, 3}\n",
      "{1, 2, 3}\n",
      "{8, 9, 7}\n",
      "{8, 9, 7}\n"
     ]
    }
   ],
   "source": [
    "x = set([1, 2, 3, 4, 5, 6])\n",
    "y = set([9, 8, 7, 6, 5, 4])\n",
    "\n",
    "#교집합\n",
    "print(x & y)\n",
    "print(x.intersection(y))\n",
    "\n",
    "#합집합\n",
    "print(x | y)\n",
    "print(x.union(y))\n",
    "\n",
    "#차집합\n",
    "print(x - y)\n",
    "print(x.difference(y))\n",
    "print(y - x)\n",
    "print(y.difference(x))"
   ]
  },
  {
   "cell_type": "markdown",
   "metadata": {},
   "source": [
    "#### 관련 함수들 "
   ]
  },
  {
   "cell_type": "markdown",
   "metadata": {},
   "source": [
    "1. 값 1개 추가하기 = add\n",
    "    - a.add()"
   ]
  },
  {
   "cell_type": "code",
   "execution_count": 117,
   "metadata": {},
   "outputs": [
    {
     "name": "stdout",
     "output_type": "stream",
     "text": [
      "{1, 2, 3, 4, 5, 6, 7}\n"
     ]
    }
   ],
   "source": [
    "a = set([1, 2, 3, 4, 5, 6])\n",
    "a.add(7)\n",
    "print(a)"
   ]
  },
  {
   "cell_type": "markdown",
   "metadata": {},
   "source": [
    "2. 값 여러 개 추가하기 = update\n",
    "    - a.update()"
   ]
  },
  {
   "cell_type": "code",
   "execution_count": 118,
   "metadata": {},
   "outputs": [
    {
     "name": "stdout",
     "output_type": "stream",
     "text": [
      "{1, 2, 3, 4, 5, 6, 7, 8, 9}\n"
     ]
    }
   ],
   "source": [
    "a = set([1, 2, 3, 4, 5, 6])\n",
    "a.update([7, 8, 9])\n",
    "print(a)"
   ]
  },
  {
   "cell_type": "markdown",
   "metadata": {},
   "source": [
    "3. 특정 값 제거하기 = remove\n",
    "    - a.remove()"
   ]
  },
  {
   "cell_type": "code",
   "execution_count": 119,
   "metadata": {},
   "outputs": [
    {
     "name": "stdout",
     "output_type": "stream",
     "text": [
      "{1, 3, 5, 6}\n"
     ]
    }
   ],
   "source": [
    "a = set([1, 2, 3, 4, 5, 6])\n",
    "a.remove(2)\n",
    "a.remove(4)\n",
    "print(a)"
   ]
  },
  {
   "cell_type": "markdown",
   "metadata": {},
   "source": [
    "### Boolen (Bool)"
   ]
  },
  {
   "cell_type": "markdown",
   "metadata": {},
   "source": [
    "참 (TRUE)과 거짓(FALSE)를 나타내는 자료형 \n",
    "\n",
    "Warning: True & False 만 Bool 자료형 \n",
    "    - X 'True', 'False', true, false X"
   ]
  },
  {
   "cell_type": "code",
   "execution_count": 120,
   "metadata": {},
   "outputs": [],
   "source": [
    "a = True\n",
    "b = False"
   ]
  },
  {
   "cell_type": "code",
   "execution_count": 122,
   "metadata": {},
   "outputs": [
    {
     "name": "stdout",
     "output_type": "stream",
     "text": [
      "<class 'bool'>\n",
      "<class 'bool'>\n"
     ]
    }
   ],
   "source": [
    "#확인 type(x)는 x의 자료형을 확인하는 파이썬의 내장 함수\n",
    "print(type(a))\n",
    "print(type(b))"
   ]
  },
  {
   "cell_type": "markdown",
   "metadata": {},
   "source": [
    "조건문의 반환 값으로도 사용됨"
   ]
  },
  {
   "cell_type": "code",
   "execution_count": 123,
   "metadata": {},
   "outputs": [
    {
     "data": {
      "text/plain": [
       "True"
      ]
     },
     "execution_count": 123,
     "metadata": {},
     "output_type": "execute_result"
    }
   ],
   "source": [
    "1 == 1 #\"1과 1이 같은가?\""
   ]
  },
  {
   "cell_type": "code",
   "execution_count": 124,
   "metadata": {},
   "outputs": [
    {
     "data": {
      "text/plain": [
       "True"
      ]
     },
     "execution_count": 124,
     "metadata": {},
     "output_type": "execute_result"
    }
   ],
   "source": [
    "3 > 1"
   ]
  },
  {
   "cell_type": "code",
   "execution_count": 125,
   "metadata": {},
   "outputs": [
    {
     "data": {
      "text/plain": [
       "False"
      ]
     },
     "execution_count": 125,
     "metadata": {},
     "output_type": "execute_result"
    }
   ],
   "source": [
    "0.5 > 3"
   ]
  },
  {
   "cell_type": "code",
   "execution_count": 127,
   "metadata": {},
   "outputs": [
    {
     "data": {
      "text/plain": [
       "False"
      ]
     },
     "execution_count": 127,
     "metadata": {},
     "output_type": "execute_result"
    }
   ],
   "source": [
    "'도베르만' == '리트리버'"
   ]
  },
  {
   "cell_type": "markdown",
   "metadata": {},
   "source": [
    "#### 자료형의 참과 거짓 "
   ]
  },
  {
   "cell_type": "markdown",
   "metadata": {},
   "source": [
    "- 자료형에도 참과 거짓이 존재함 --> bool을 출력하여 확인 가능\n",
    "- 직관적으로 참과 거짓으로 나눌 수 없다고 생각되는 자료형들도 확인 가능\n",
    "    - 문자열, 리스트, 튜플, 딕셔너리등의 값이 비어 있으면 '거짓'\n",
    "    - 숫자에서는 0일 때 '거짓'\n",
    "    - None = '거짓'"
   ]
  },
  {
   "cell_type": "code",
   "execution_count": 130,
   "metadata": {},
   "outputs": [
    {
     "name": "stdout",
     "output_type": "stream",
     "text": [
      "True\n",
      "False\n",
      "True\n",
      "False\n",
      "True\n",
      "False\n",
      "True\n",
      "False\n",
      "True\n",
      "False\n"
     ]
    },
    {
     "data": {
      "text/plain": [
       "False"
      ]
     },
     "execution_count": 130,
     "metadata": {},
     "output_type": "execute_result"
    }
   ],
   "source": [
    "#string\n",
    "print(bool(\"perfect\"))\n",
    "print(bool(\"\")) #empty\n",
    "\n",
    "#list\n",
    "print(bool([1, 2]))\n",
    "print(bool([])) #empty\n",
    "\n",
    "#tuple\n",
    "print(bool((1, 2, 3))) \n",
    "print(bool(())) #empty\n",
    "\n",
    "#dictionary\n",
    "print(bool({1:'string', 2:'list'}))\n",
    "print(bool({})) #empty\n",
    "\n",
    "#set\n",
    "a = set([1, 2, 3, 4, 5]) \n",
    "print(bool(a)) \n",
    "b = set({}) #empty\n",
    "print(bool(b))\n",
    "\n",
    "#NONE\n",
    "bool(None)"
   ]
  }
 ],
 "metadata": {
  "kernelspec": {
   "display_name": "Python 3",
   "language": "python",
   "name": "python3"
  },
  "language_info": {
   "codemirror_mode": {
    "name": "ipython",
    "version": 3
   },
   "file_extension": ".py",
   "mimetype": "text/x-python",
   "name": "python",
   "nbconvert_exporter": "python",
   "pygments_lexer": "ipython3",
   "version": "3.7.3"
  }
 },
 "nbformat": 4,
 "nbformat_minor": 2
}
