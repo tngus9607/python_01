{
 "cells": [
  {
   "cell_type": "markdown",
   "metadata": {},
   "source": [
    "# CLASS"
   ]
  },
  {
   "cell_type": "markdown",
   "metadata": {},
   "source": [
    "## shyoon"
   ]
  },
  {
   "cell_type": "markdown",
   "metadata": {},
   "source": [
    "### WHY do we need CLASS? CONCEPT"
   ]
  },
  {
   "cell_type": "markdown",
   "metadata": {},
   "source": [
    "C언어 = class X\n",
    "\n",
    "--> 클래스가 없어도 프로그램을 만들 수 있다는 뜻 \n",
    "- BUT, 적재적소에 사용하면 얻을 수 있는 이익은 많음\n",
    "\n",
    "#example \n",
    "계산기는 이전에 계산한 결과값을 기억하고 있어야 한다. "
   ]
  },
  {
   "cell_type": "code",
   "execution_count": 1,
   "metadata": {},
   "outputs": [
    {
     "name": "stdout",
     "output_type": "stream",
     "text": [
      "3\n",
      "7\n"
     ]
    }
   ],
   "source": [
    "#ADD example : 매개변수 num에 받은 값을 이전에 계산한 결과값에 더한 후 돌려주는 함수\n",
    "result = 0\n",
    "\n",
    "def add(num):\n",
    "    global result #이전에 계산한 결과값 유지위해 result 전역 변수(global)사용\n",
    "    result += num\n",
    "    return result\n",
    "\n",
    "print(add(3))\n",
    "print(add(4))"
   ]
  },
  {
   "cell_type": "code",
   "execution_count": 2,
   "metadata": {},
   "outputs": [
    {
     "name": "stdout",
     "output_type": "stream",
     "text": [
      "3\n",
      "7\n",
      "3\n",
      "10\n"
     ]
    }
   ],
   "source": [
    "#이때, 2대의 계산기가 필요하다면? -> 함수를 각각 따로 만들어야 함\n",
    "result1 = 0\n",
    "result2 = 0\n",
    "\n",
    "def add1(num):\n",
    "    global result1\n",
    "    result1 += num\n",
    "    return result1\n",
    "\n",
    "def add2(num):\n",
    "    global result2\n",
    "    result2 += num\n",
    "    return result2\n",
    "\n",
    "print(add1(3))\n",
    "print(add1(4))\n",
    "print(add2(3))\n",
    "print(add2(7))"
   ]
  },
  {
   "cell_type": "code",
   "execution_count": 4,
   "metadata": {},
   "outputs": [
    {
     "name": "stdout",
     "output_type": "stream",
     "text": [
      "3\n",
      "7\n",
      "3\n",
      "10\n"
     ]
    }
   ],
   "source": [
    "#IF we need more..? -클래스: 객체를 생성만 하면 되기 때문에 함수 사용과는 다르게 간단해짐\n",
    "class Calculator:\n",
    "    def __init__(self):\n",
    "        self.result = 0\n",
    "    \n",
    "    def add(self,num):\n",
    "        self.result += num\n",
    "        return self.result\n",
    "\n",
    "cal1 = Calculator()\n",
    "cal2 = Calculator()\n",
    "\n",
    "print(cal1.add(3))\n",
    "print(cal1.add(4))\n",
    "print(cal2.add(3))\n",
    "print(cal2.add(7))"
   ]
  },
  {
   "cell_type": "markdown",
   "metadata": {},
   "source": [
    "### 클래스와 객체 "
   ]
  },
  {
   "cell_type": "markdown",
   "metadata": {},
   "source": [
    "- 클래스 (class) = 설계 도면 (큰 틀)\n",
    "- 객체 (object) = 클래스로 만든 피조물 \n",
    "\n",
    "Important characteristic:\n",
    "    - 객체마다 고유한 성격을 가짐\n",
    "        - 서로 영향을 주지 않는다 "
   ]
  },
  {
   "cell_type": "code",
   "execution_count": 5,
   "metadata": {},
   "outputs": [],
   "source": [
    "#simple example\n",
    "class Cookie: \n",
    "    pass\n",
    "\n",
    "a = Cookie() #a & b = object (it's like functions receiving the results?)\n",
    "b = Cookie()"
   ]
  },
  {
   "cell_type": "markdown",
   "metadata": {},
   "source": [
    "*객체와 인스턴스의 차이 \n",
    "- 클래스로 만든 객체를 인스턴스라고도 함\n",
    "    - a = 객체\n",
    "    - Cookie = 인스턴스\n",
    "- 즉, 인스턴스는 특정 객체(a)가 어떤 클래스(Cookie)의 객체인지를 \"관계\"위주로 설명할 때 사용\n",
    "    - a는 객체\n",
    "    - a는 Cookie의 인스턴스!"
   ]
  },
  {
   "cell_type": "markdown",
   "metadata": {},
   "source": [
    "### Method (메서드)"
   ]
  },
  {
   "cell_type": "markdown",
   "metadata": {},
   "source": [
    "Method = 클래스 안에 구현된 함수\n",
    "- object를 어떤 카테고리에 상속시킬 수 있게 하는 것\n",
    "\n",
    "Format: \n",
    "    object.method(parameter)"
   ]
  },
  {
   "cell_type": "code",
   "execution_count": 36,
   "metadata": {},
   "outputs": [],
   "source": [
    "#example\n",
    "class Dog():\n",
    "    def __init__(self, name, age, breed): \n",
    "        self.name = name\n",
    "        self.age = age\n",
    "        self.breed = breed\n",
    "        \n",
    "    def eat(self):\n",
    "        print(self.name.title() + \" is now eating.\")\n",
    "    \n",
    "    def roll_over(self):\n",
    "        print (self.name.title() + \" rolled over!\")"
   ]
  },
  {
   "cell_type": "code",
   "execution_count": 38,
   "metadata": {},
   "outputs": [
    {
     "name": "stdout",
     "output_type": "stream",
     "text": [
      "My dog's name is lucky.\n",
      "He/she is 3 years old\n",
      "He's a Corgi.\n"
     ]
    }
   ],
   "source": [
    "#cont.\n",
    "myPet = Dog('lucky', 3, 'Corgi')\n",
    "print(\"My dog's name is \" + myPet.name + \".\")\n",
    "print(\"He/she is \" + str(myPet.age) + \" years old\")\n",
    "print(\"He's a \" + myPet.breed + \".\")"
   ]
  },
  {
   "cell_type": "code",
   "execution_count": 39,
   "metadata": {},
   "outputs": [
    {
     "name": "stdout",
     "output_type": "stream",
     "text": [
      "Lucky is now eating.\n",
      "Lucky rolled over!\n"
     ]
    }
   ],
   "source": [
    "#Cont. \n",
    "myPet.eat()\n",
    "myPet.roll_over()"
   ]
  },
  {
   "cell_type": "code",
   "execution_count": null,
   "metadata": {},
   "outputs": [],
   "source": [
    "### 사칙연산 클래스 만들기 \n",
    "1. 클래스를 어떻게 만들지 먼.저. 구상하기\n",
    "    - 구상한 뒤 하나씩 해결하면서 완성해 나가는 것\n",
    "2. 클래스 구조 만들기\n",
    "3. 객체에 숫자 지정할 수 있게 만들기\n",
    "4. 기능 추가"
   ]
  },
  {
   "cell_type": "code",
   "execution_count": 7,
   "metadata": {},
   "outputs": [
    {
     "ename": "NameError",
     "evalue": "name 'FourCal' is not defined",
     "output_type": "error",
     "traceback": [
      "\u001b[1;31m---------------------------------------------------------------------------\u001b[0m",
      "\u001b[1;31mNameError\u001b[0m                                 Traceback (most recent call last)",
      "\u001b[1;32m<ipython-input-7-b1e2b14d3602>\u001b[0m in \u001b[0;36m<module>\u001b[1;34m\u001b[0m\n\u001b[0;32m      1\u001b[0m \u001b[1;31m#1.\u001b[0m\u001b[1;33m\u001b[0m\u001b[1;33m\u001b[0m\u001b[1;33m\u001b[0m\u001b[0m\n\u001b[0;32m      2\u001b[0m \u001b[1;31m#클래스를 가정해 객체를 만듬\u001b[0m\u001b[1;33m\u001b[0m\u001b[1;33m\u001b[0m\u001b[1;33m\u001b[0m\u001b[0m\n\u001b[1;32m----> 3\u001b[1;33m \u001b[0ma\u001b[0m \u001b[1;33m=\u001b[0m \u001b[0mFourCal\u001b[0m\u001b[1;33m(\u001b[0m\u001b[1;33m)\u001b[0m\u001b[1;33m\u001b[0m\u001b[1;33m\u001b[0m\u001b[0m\n\u001b[0m\u001b[0;32m      4\u001b[0m \u001b[1;33m\u001b[0m\u001b[0m\n\u001b[0;32m      5\u001b[0m \u001b[1;31m#num 지정\u001b[0m\u001b[1;33m\u001b[0m\u001b[1;33m\u001b[0m\u001b[1;33m\u001b[0m\u001b[0m\n",
      "\u001b[1;31mNameError\u001b[0m: name 'FourCal' is not defined"
     ]
    }
   ],
   "source": [
    "#1. 클래스 구상\n",
    "#클래스를 가정해 객체를 만듬\n",
    "a = FourCal() #error = not yet created\n",
    "\n",
    "#num 지정\n",
    "a.setdata(4,2)\n",
    "\n",
    "#add 함수 수행하면 결과값을 돌려줌\n",
    "print(a.add()) \n",
    "\n",
    "#mul 함수 수행\n",
    "print(a.mul())\n",
    "\n",
    "#sub 함수 수행\n",
    "print(a.sub())\n",
    "\n",
    "#div 함수 수행 \n",
    "print(a.div())"
   ]
  },
  {
   "cell_type": "code",
   "execution_count": 4,
   "metadata": {},
   "outputs": [
    {
     "data": {
      "text/plain": [
       "__main__.FourCal"
      ]
     },
     "execution_count": 4,
     "metadata": {},
     "output_type": "execute_result"
    }
   ],
   "source": [
    "#2 구조 \n",
    "class FourCal:\n",
    "    pass #pass = 아무것도 수행하지 않는 문법으로 임시로 코드를 작성할 때 주로 사용\n",
    "\n",
    "a = FourCal()\n",
    "type(a) #type = 자체로 가지고 있는 내장 함수로 객체 타입을 출력"
   ]
  },
  {
   "cell_type": "code",
   "execution_count": 5,
   "metadata": {},
   "outputs": [],
   "source": [
    "#3 객체에 숫자 지정 \"a.setdata(4,2)\"\n",
    "class FourCal: #delete pass -> create setdata\n",
    "    def setdata(self, first, second): # Method 매개변수 #**Method = 클래스 안에 구현된 함수\n",
    "        self.first = first #Method 수행문\n",
    "        self.second = second #Method 수행문\n"
   ]
  },
  {
   "cell_type": "code",
   "execution_count": null,
   "metadata": {},
   "outputs": [],
   "source": [
    "#3-1 \n",
    "setdata method의 매개변수 = self, first, second (3개의 입력값)\n",
    "    - self = 특별한 의미 -> 객체 a, 자신이 전달됨 (self외의 다른 이름 ok)\n",
    "        - self를 명시적으로 구현하는 것은 파이썬만의 독특한 특징\n",
    "*Method의 또 다른 호출 방법\n",
    "a = FourCal() \n",
    "FourCal.setdata(a, 4, 2) #클래스 이름.메서드 형태로의 호출\n",
    "a.setdata(4, 2) #객체.메서드 형태로의 호출\n",
    "\n",
    "#3-2\n",
    "수행문 = 위에 명시된 것처럼 a.setdata로 호출하면 그 값이 저장됨 \n",
    "    - 객체에 생성되는 객체만의 변수를 객체변수라고 부름"
   ]
  },
  {
   "cell_type": "code",
   "execution_count": 17,
   "metadata": {},
   "outputs": [
    {
     "name": "stdout",
     "output_type": "stream",
     "text": [
      "4\n",
      "2\n"
     ]
    }
   ],
   "source": [
    "#3확인 - 객체변수 생성\n",
    "a = FourCal()\n",
    "a.setdata(4,2)\n",
    "\n",
    "print(a.first)\n",
    "print(a.second)"
   ]
  },
  {
   "cell_type": "code",
   "execution_count": 12,
   "metadata": {},
   "outputs": [
    {
     "name": "stdout",
     "output_type": "stream",
     "text": [
      "4\n",
      "3\n"
     ]
    }
   ],
   "source": [
    "#3 a,b객체 생성의 다른 방법 -original 값을 유지\n",
    "a = FourCal()\n",
    "b = FourCal()\n",
    "\n",
    "a.setdata(4,2)\n",
    "print(a.first)\n",
    "\n",
    "b.setdata(3,7)\n",
    "print(b.first)"
   ]
  },
  {
   "cell_type": "code",
   "execution_count": 13,
   "metadata": {},
   "outputs": [
    {
     "data": {
      "text/plain": [
       "140712188154752"
      ]
     },
     "execution_count": 13,
     "metadata": {},
     "output_type": "execute_result"
    }
   ],
   "source": [
    "#객체변수가 독립적인 값을 유지한다는 점을 좀 더 명확하게 증명? %%따로 해야하나\n",
    "    #id = 객체의 주소를 돌려주는 파이썬 내장 함수\n",
    "\n",
    "a = FourCal()\n",
    "b = FourCal()\n",
    "\n",
    "a.setdata(4,2)\n",
    "b.setdata(3,7)\n",
    "\n",
    "id(a.first) #a의 first 주소값을 확인\n",
    "id(b.first) #b ;"
   ]
  },
  {
   "cell_type": "code",
   "execution_count": 1,
   "metadata": {},
   "outputs": [],
   "source": [
    "#4 기능 추가\n",
    "class FourCal:\n",
    "    def setdata(self, first, second):\n",
    "        self.first = first\n",
    "        self.second = second\n",
    "    def add(self):\n",
    "        result = self.first + self.second\n",
    "        return result\n",
    "    def mul(self):\n",
    "        result = self.first * self.second\n",
    "        return result\n",
    "    def sub(self):\n",
    "        result = self.first - self.second\n",
    "        return result\n",
    "    def div(self):\n",
    "        result = self.first / self.second\n",
    "        return result"
   ]
  },
  {
   "cell_type": "code",
   "execution_count": 10,
   "metadata": {},
   "outputs": [],
   "source": [
    "a = FourCal()\n",
    "b = FourCal()\n",
    "a.setdata(4,2)\n",
    "b.setdata(3,8)"
   ]
  },
  {
   "cell_type": "code",
   "execution_count": 13,
   "metadata": {},
   "outputs": [
    {
     "data": {
      "text/plain": [
       "6"
      ]
     },
     "execution_count": 13,
     "metadata": {},
     "output_type": "execute_result"
    }
   ],
   "source": [
    "a.add()"
   ]
  },
  {
   "cell_type": "code",
   "execution_count": 14,
   "metadata": {},
   "outputs": [
    {
     "data": {
      "text/plain": [
       "24"
      ]
     },
     "execution_count": 14,
     "metadata": {},
     "output_type": "execute_result"
    }
   ],
   "source": [
    "b.mul()"
   ]
  },
  {
   "cell_type": "code",
   "execution_count": 15,
   "metadata": {},
   "outputs": [
    {
     "data": {
      "text/plain": [
       "2.0"
      ]
     },
     "execution_count": 15,
     "metadata": {},
     "output_type": "execute_result"
    }
   ],
   "source": [
    "a.div()"
   ]
  },
  {
   "cell_type": "markdown",
   "metadata": {},
   "source": [
    "#### 클래스 만들기 예제"
   ]
  },
  {
   "cell_type": "code",
   "execution_count": 40,
   "metadata": {},
   "outputs": [],
   "source": [
    "#1 create a class \n",
    "class Marvel:\n",
    "    pass #먼저 pass를 씀"
   ]
  },
  {
   "cell_type": "code",
   "execution_count": 41,
   "metadata": {},
   "outputs": [],
   "source": [
    "#2 Create an instance\n",
    "\n",
    "IronMan = Marvel()\n",
    "CaptainAmerica = Marvel()"
   ]
  },
  {
   "cell_type": "code",
   "execution_count": 42,
   "metadata": {},
   "outputs": [],
   "source": [
    "#3 Add attributes to a class - 인스턴스 별로 고유한 변수 생성 가능\n",
    "\n",
    "IronMan.what = \"Suit\"\n",
    "IronMan.name = \"Tony Stark\"\n",
    "\n",
    "CaptainAmerica.what = \"Shield\"\n",
    "CaptainAmerica.name = \"Steve Rogers\""
   ]
  },
  {
   "cell_type": "code",
   "execution_count": 43,
   "metadata": {},
   "outputs": [
    {
     "name": "stdout",
     "output_type": "stream",
     "text": [
      "Suit\n",
      "Steve Rogers\n"
     ]
    }
   ],
   "source": [
    "#test!\n",
    "print(IronMan.what)\n",
    "print(CaptainAmerica.name)"
   ]
  },
  {
   "cell_type": "markdown",
   "metadata": {},
   "source": [
    "### 생성자 (Constructor)"
   ]
  },
  {
   "cell_type": "code",
   "execution_count": 2,
   "metadata": {},
   "outputs": [
    {
     "ename": "AttributeError",
     "evalue": "'FourCal' object has no attribute 'first'",
     "output_type": "error",
     "traceback": [
      "\u001b[1;31m---------------------------------------------------------------------------\u001b[0m",
      "\u001b[1;31mAttributeError\u001b[0m                            Traceback (most recent call last)",
      "\u001b[1;32m<ipython-input-2-b56a765a2612>\u001b[0m in \u001b[0;36m<module>\u001b[1;34m\u001b[0m\n\u001b[0;32m      1\u001b[0m \u001b[0ma\u001b[0m \u001b[1;33m=\u001b[0m \u001b[0mFourCal\u001b[0m\u001b[1;33m(\u001b[0m\u001b[1;33m)\u001b[0m\u001b[1;33m\u001b[0m\u001b[1;33m\u001b[0m\u001b[0m\n\u001b[1;32m----> 2\u001b[1;33m \u001b[0ma\u001b[0m\u001b[1;33m.\u001b[0m\u001b[0madd\u001b[0m\u001b[1;33m(\u001b[0m\u001b[1;33m)\u001b[0m\u001b[1;33m\u001b[0m\u001b[1;33m\u001b[0m\u001b[0m\n\u001b[0m\u001b[0;32m      3\u001b[0m \u001b[1;33m\u001b[0m\u001b[0m\n\u001b[0;32m      4\u001b[0m \u001b[1;31m#FourCal 클래스의 인스턴스 a에 setdata 메서드를 수행하지 않고 add 메서드를 수행하면,,  setdata 메서드를 수행해야 객체 a의 객체변수 first와 second가 생성되기 때문이다.\u001b[0m\u001b[1;33m\u001b[0m\u001b[1;33m\u001b[0m\u001b[1;33m\u001b[0m\u001b[0m\n",
      "\u001b[1;32m<ipython-input-1-d1ef82f32925>\u001b[0m in \u001b[0;36madd\u001b[1;34m(self)\u001b[0m\n\u001b[0;32m      5\u001b[0m         \u001b[0mself\u001b[0m\u001b[1;33m.\u001b[0m\u001b[0msecond\u001b[0m \u001b[1;33m=\u001b[0m \u001b[0msecond\u001b[0m\u001b[1;33m\u001b[0m\u001b[1;33m\u001b[0m\u001b[0m\n\u001b[0;32m      6\u001b[0m     \u001b[1;32mdef\u001b[0m \u001b[0madd\u001b[0m\u001b[1;33m(\u001b[0m\u001b[0mself\u001b[0m\u001b[1;33m)\u001b[0m\u001b[1;33m:\u001b[0m\u001b[1;33m\u001b[0m\u001b[1;33m\u001b[0m\u001b[0m\n\u001b[1;32m----> 7\u001b[1;33m         \u001b[0mresult\u001b[0m \u001b[1;33m=\u001b[0m \u001b[0mself\u001b[0m\u001b[1;33m.\u001b[0m\u001b[0mfirst\u001b[0m \u001b[1;33m+\u001b[0m \u001b[0mself\u001b[0m\u001b[1;33m.\u001b[0m\u001b[0msecond\u001b[0m\u001b[1;33m\u001b[0m\u001b[1;33m\u001b[0m\u001b[0m\n\u001b[0m\u001b[0;32m      8\u001b[0m         \u001b[1;32mreturn\u001b[0m \u001b[0mresult\u001b[0m\u001b[1;33m\u001b[0m\u001b[1;33m\u001b[0m\u001b[0m\n\u001b[0;32m      9\u001b[0m     \u001b[1;32mdef\u001b[0m \u001b[0mmul\u001b[0m\u001b[1;33m(\u001b[0m\u001b[0mself\u001b[0m\u001b[1;33m)\u001b[0m\u001b[1;33m:\u001b[0m\u001b[1;33m\u001b[0m\u001b[1;33m\u001b[0m\u001b[0m\n",
      "\u001b[1;31mAttributeError\u001b[0m: 'FourCal' object has no attribute 'first'"
     ]
    }
   ],
   "source": [
    "a = FourCal()\n",
    "a.add()\n",
    "\n",
    "#FourCal 클래스의 인스턴스 a에 setdata 메서드를 수행하지 않고 add 메서드를 수행하면,,  setdata 메서드를 수행해야 객체 a의 객체변수 first와 second가 생성되기 때문이다."
   ]
  },
  {
   "cell_type": "markdown",
   "metadata": {},
   "source": [
    "객체에 초기값을 설정해야 할 필요가 있을 때, \n",
    "- 생성자를 구현하는 것이 안전하다\n",
    "\n",
    "*constructor = 객체가 생성될 때 자동으로 호출되는 메서드\n",
    "    - __init__ = 메서드를 생성자로 만듬\n",
    "        - self에 생성되는 객체가 자동으로 전달!"
   ]
  },
  {
   "cell_type": "code",
   "execution_count": 28,
   "metadata": {},
   "outputs": [],
   "source": [
    "class FourCal:\n",
    "    def __init__(self, first, second):\n",
    "        self.first = first\n",
    "        self.second = second\n",
    "    def setdata(self, first, second):\n",
    "        self.first = first\n",
    "        self.second = second\n",
    "    def add(self):\n",
    "        result = self.first + self.second\n",
    "        return result\n",
    "    def mul(self):\n",
    "        result = self.first * self.second\n",
    "        return result\n",
    "    def sub(self):\n",
    "        result = self.first - self.second\n",
    "        return result\n",
    "    def div(self):\n",
    "        result = self.first / self.second\n",
    "        return result"
   ]
  },
  {
   "cell_type": "code",
   "execution_count": 18,
   "metadata": {},
   "outputs": [
    {
     "ename": "TypeError",
     "evalue": "__init__() missing 2 required positional arguments: 'first' and 'second'",
     "output_type": "error",
     "traceback": [
      "\u001b[1;31m---------------------------------------------------------------------------\u001b[0m",
      "\u001b[1;31mTypeError\u001b[0m                                 Traceback (most recent call last)",
      "\u001b[1;32m<ipython-input-18-22c4746fe15c>\u001b[0m in \u001b[0;36m<module>\u001b[1;34m\u001b[0m\n\u001b[0;32m      1\u001b[0m \u001b[1;31m#error = 매개변수에 해당하는 값이 전달되지 않아서\u001b[0m\u001b[1;33m\u001b[0m\u001b[1;33m\u001b[0m\u001b[1;33m\u001b[0m\u001b[0m\n\u001b[1;32m----> 2\u001b[1;33m \u001b[0ma\u001b[0m \u001b[1;33m=\u001b[0m \u001b[0mFourCal\u001b[0m\u001b[1;33m(\u001b[0m\u001b[1;33m)\u001b[0m\u001b[1;33m\u001b[0m\u001b[1;33m\u001b[0m\u001b[0m\n\u001b[0m",
      "\u001b[1;31mTypeError\u001b[0m: __init__() missing 2 required positional arguments: 'first' and 'second'"
     ]
    }
   ],
   "source": [
    "#error = 매개변수에 해당하는 값이 전달되지 않아서\n",
    "a = FourCal()"
   ]
  },
  {
   "cell_type": "code",
   "execution_count": 21,
   "metadata": {},
   "outputs": [
    {
     "name": "stdout",
     "output_type": "stream",
     "text": [
      "4\n",
      "2\n"
     ]
    },
    {
     "data": {
      "text/plain": [
       "6"
      ]
     },
     "execution_count": 21,
     "metadata": {},
     "output_type": "execute_result"
    }
   ],
   "source": [
    "#error fix\n",
    "a = FourCal(4,2)\n",
    "\n",
    "print(a.first)\n",
    "print(a.second)\n",
    "a.add()"
   ]
  },
  {
   "cell_type": "markdown",
   "metadata": {},
   "source": [
    "### 클래스의 상속 (Inheritance)"
   ]
  },
  {
   "cell_type": "markdown",
   "metadata": {},
   "source": [
    "- 어떤 클래스를 만들 때 다른 클래스의 기능을 물려받을 수 있게 만드는 것\n",
    "\n",
    "Format: \n",
    "class 클래스 이름(상속할 클래스 이름) \n",
    "\n",
    "WHY 상속? \n",
    "- 보통 상속은 기존 클래스를 변경하지 않고 기능을 추가/변경할 때 사용\n",
    "    - 기존 클래스가 라이브러리 형태로 제공/수정이 허용되지 X = 상속!"
   ]
  },
  {
   "cell_type": "code",
   "execution_count": 22,
   "metadata": {},
   "outputs": [],
   "source": [
    "class MoreFourCal(FourCal):\n",
    "    pass"
   ]
  },
  {
   "cell_type": "code",
   "execution_count": 23,
   "metadata": {},
   "outputs": [],
   "source": [
    "class MoreFourCal(FourCal):\n",
    "    def pow(self): #pow = 거듭제곱\n",
    "        result = self.first ** self.second\n",
    "        return result "
   ]
  },
  {
   "cell_type": "code",
   "execution_count": 24,
   "metadata": {},
   "outputs": [
    {
     "data": {
      "text/plain": [
       "16"
      ]
     },
     "execution_count": 24,
     "metadata": {},
     "output_type": "execute_result"
    }
   ],
   "source": [
    "a = MoreFourCal(4,2)\n",
    "a.pow()"
   ]
  },
  {
   "cell_type": "markdown",
   "metadata": {},
   "source": [
    "### 메서드 오버라이딩 (Method Overriding)"
   ]
  },
  {
   "cell_type": "markdown",
   "metadata": {},
   "source": [
    "Oerriding(덮어쓰기):\n",
    "    \n",
    "부모 클래스(상속한 클래스)에 있는 메서드를 동일한 이름으로 다시 만드는 것 - 수정할 때 (바꿔서) "
   ]
  },
  {
   "cell_type": "code",
   "execution_count": 29,
   "metadata": {},
   "outputs": [
    {
     "data": {
      "text/plain": [
       "<bound method FourCal.div of <__main__.FourCal object at 0x0000021111DA35F8>>"
      ]
     },
     "execution_count": 29,
     "metadata": {},
     "output_type": "execute_result"
    }
   ],
   "source": [
    "#error = 0으로 나누려하기 때문..? %원래는 zerodivisionerror\n",
    "a = FourCal(4,0)\n",
    "a.div "
   ]
  },
  {
   "cell_type": "code",
   "execution_count": 26,
   "metadata": {},
   "outputs": [],
   "source": [
    "#error fix = result is 0\n",
    "class SafeFourCal(FourCal):\n",
    "    def div(self):\n",
    "        if self.second == 0: #나누는 값이 0인 경우 0을 리턴하도록\n",
    "            return 0\n",
    "        else:\n",
    "            return self.first / self.second"
   ]
  },
  {
   "cell_type": "code",
   "execution_count": 27,
   "metadata": {},
   "outputs": [
    {
     "data": {
      "text/plain": [
       "<bound method SafeFourCal.div of <__main__.SafeFourCal object at 0x0000021111DA39E8>>"
      ]
     },
     "execution_count": 27,
     "metadata": {},
     "output_type": "execute_result"
    }
   ],
   "source": [
    "a = SafeFourCal(4,0)\n",
    "a.div"
   ]
  },
  {
   "cell_type": "markdown",
   "metadata": {},
   "source": [
    "### 클래스 변수"
   ]
  },
  {
   "cell_type": "markdown",
   "metadata": {},
   "source": [
    "클래스 안에 변수를 선언하여 생성 \n",
    "    - 클래스로 만든 모든 객체에 공유\n",
    "   \n",
    "Format:\n",
    "    - 클래스이름.클래스 변수\n",
    "    \n",
    "- 객체변수 빈도수 > 클래스 변수"
   ]
  },
  {
   "cell_type": "code",
   "execution_count": 30,
   "metadata": {},
   "outputs": [],
   "source": [
    "#example\n",
    "class Family:\n",
    "    lastname = \"김\""
   ]
  },
  {
   "cell_type": "code",
   "execution_count": 31,
   "metadata": {},
   "outputs": [
    {
     "name": "stdout",
     "output_type": "stream",
     "text": [
      "김\n"
     ]
    }
   ],
   "source": [
    "print(Family.lastname)"
   ]
  },
  {
   "cell_type": "code",
   "execution_count": 32,
   "metadata": {},
   "outputs": [
    {
     "name": "stdout",
     "output_type": "stream",
     "text": [
      "김\n",
      "김\n"
     ]
    }
   ],
   "source": [
    "a = Family()\n",
    "b = Family()\n",
    "\n",
    "print(a.lastname)\n",
    "print(b.lastname)"
   ]
  },
  {
   "cell_type": "code",
   "execution_count": 33,
   "metadata": {},
   "outputs": [],
   "source": [
    "Family.lastname = \"Yoon\" #변경"
   ]
  },
  {
   "cell_type": "code",
   "execution_count": 34,
   "metadata": {},
   "outputs": [
    {
     "name": "stdout",
     "output_type": "stream",
     "text": [
      "Yoon\n",
      "Yoon\n"
     ]
    }
   ],
   "source": [
    "print(a.lastname)\n",
    "print(b.lastname)"
   ]
  },
  {
   "cell_type": "code",
   "execution_count": null,
   "metadata": {},
   "outputs": [],
   "source": []
  }
 ],
 "metadata": {
  "kernelspec": {
   "display_name": "Python 3",
   "language": "python",
   "name": "python3"
  },
  "language_info": {
   "codemirror_mode": {
    "name": "ipython",
    "version": 3
   },
   "file_extension": ".py",
   "mimetype": "text/x-python",
   "name": "python",
   "nbconvert_exporter": "python",
   "pygments_lexer": "ipython3",
   "version": "3.7.3"
  }
 },
 "nbformat": 4,
 "nbformat_minor": 2
}
